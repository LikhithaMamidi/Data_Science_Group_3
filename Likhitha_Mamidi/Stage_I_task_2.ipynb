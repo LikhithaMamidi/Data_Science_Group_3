{
 "cells": [
  {
   "cell_type": "markdown",
   "id": "631de8cd",
   "metadata": {},
   "source": [
    "# Task 2\n",
    "## Report describing the enrichment data and datatype - variable dictionary\n",
    "\n",
    "Enrichment data - US Election 2020\n",
    "\n",
    "The 2020 election data comprises a total of eleven datasets, encompassing county-level information from the U.S. Election of 2020. This report specifically delves into the Senate county dataset, explaining the current and total votes with a summary based on percentages. \n",
    "\n"
   ]
  },
  {
   "cell_type": "code",
   "execution_count": 1,
   "id": "52d3a7f3",
   "metadata": {},
   "outputs": [
    {
     "data": {
      "text/html": [
       "<div>\n",
       "<style scoped>\n",
       "    .dataframe tbody tr th:only-of-type {\n",
       "        vertical-align: middle;\n",
       "    }\n",
       "\n",
       "    .dataframe tbody tr th {\n",
       "        vertical-align: top;\n",
       "    }\n",
       "\n",
       "    .dataframe thead th {\n",
       "        text-align: right;\n",
       "    }\n",
       "</style>\n",
       "<table border=\"1\" class=\"dataframe\">\n",
       "  <thead>\n",
       "    <tr style=\"text-align: right;\">\n",
       "      <th></th>\n",
       "      <th>State</th>\n",
       "      <th>County Name</th>\n",
       "      <th>current_votes</th>\n",
       "      <th>total_votes</th>\n",
       "      <th>percent</th>\n",
       "    </tr>\n",
       "  </thead>\n",
       "  <tbody>\n",
       "    <tr>\n",
       "      <th>0</th>\n",
       "      <td>DE</td>\n",
       "      <td>Kent County</td>\n",
       "      <td>84975</td>\n",
       "      <td>87025</td>\n",
       "      <td>100</td>\n",
       "    </tr>\n",
       "    <tr>\n",
       "      <th>1</th>\n",
       "      <td>DE</td>\n",
       "      <td>New Castle County</td>\n",
       "      <td>279462</td>\n",
       "      <td>287633</td>\n",
       "      <td>100</td>\n",
       "    </tr>\n",
       "    <tr>\n",
       "      <th>2</th>\n",
       "      <td>DE</td>\n",
       "      <td>Sussex County</td>\n",
       "      <td>126498</td>\n",
       "      <td>129352</td>\n",
       "      <td>100</td>\n",
       "    </tr>\n",
       "    <tr>\n",
       "      <th>3</th>\n",
       "      <td>GA</td>\n",
       "      <td>Appling County</td>\n",
       "      <td>8187</td>\n",
       "      <td>8341</td>\n",
       "      <td>100</td>\n",
       "    </tr>\n",
       "    <tr>\n",
       "      <th>4</th>\n",
       "      <td>GA</td>\n",
       "      <td>Atkinson County</td>\n",
       "      <td>3097</td>\n",
       "      <td>3155</td>\n",
       "      <td>100</td>\n",
       "    </tr>\n",
       "  </tbody>\n",
       "</table>\n",
       "</div>"
      ],
      "text/plain": [
       "  State        County Name  current_votes  total_votes  percent\n",
       "0    DE        Kent County          84975        87025      100\n",
       "1    DE  New Castle County         279462       287633      100\n",
       "2    DE      Sussex County         126498       129352      100\n",
       "3    GA     Appling County           8187         8341      100\n",
       "4    GA    Atkinson County           3097         3155      100"
      ]
     },
     "execution_count": 1,
     "metadata": {},
     "output_type": "execute_result"
    }
   ],
   "source": [
    "import pandas as pd\n",
    "Enrichment_data = pd.read_csv(\"senate_county.csv\")\n",
    "Enrichment_data.head()"
   ]
  },
  {
   "cell_type": "markdown",
   "id": "a14fca6d",
   "metadata": {},
   "source": [
    "## senate county dataset\n",
    "The dataset on Senate county comprises 3,582 rows and 5 columns. \n",
    "These 5 columns provide a breakdown of total and current votes represented as percentages for various states and their counties during the 2020 US elections.\n",
    "\n",
    "\n",
    "## Variable Dictionary for the Senate county dataset\n",
    "Presented below is the variable dictionary for the Senate county dataset.\n",
    "\n",
    "| Column Name | Definition| Data type | Possible values | Required? |\n",
    "|----------|----------|----------|----------|----------|\n",
    "| State       | Name Of the state      | Text       |DE, GA, ID, KY, LA      | Yes       |\n",
    "| County Name       | Name of the county       | Text       | Bibb County,Dade County,Latah County| yes       |\n",
    "| Current_votes      |Currently counted votes      | Integer      |37627,7650,390772,25142,2414 | yes       |\n",
    "| Total_votes       | Total number of votes       | Integer       | 18251,35311, 10707,3455,54239       | yes     |\n",
    "| percent       | Percentage of votes       | Integer       | 61,82,84,95,100      | no      |\n",
    "\n",
    "\n",
    "\n",
    "\n",
    "\n",
    "* what is the difference between current votes and total votes?\n",
    "\n",
    "- Total votes encompass all votes cast throughout the entire duration of the voting process, while current votes represent the votes received up to a specific point in time."
   ]
  },
  {
   "cell_type": "markdown",
   "id": "6387f8d2",
   "metadata": {},
   "source": [
    "## Merging the data with the primary COVID-19 dataset \n",
    "\n",
    "* The primary COVID-19 data is composed of three distinct datasets, each detailing the registered cases, number of deaths, and the total population. These datasets have various parameters and values specific to different states and counties across the United States. \n",
    "* In this segment of the report, we will provide a brief overview of the COVID-19 data alongside the Senate county dataset (Enrichment data).\n",
    "\n",
    " | Dataset | no.of Rows | no. of Columns | Column name | Column name | Column name | Column name | Column name |\n",
    "|----------|----------|----------|----------|----------|----------|----------|----------|\n",
    "| confirmed covid       | 3193       | 1269| countyFIPS | County Name | State | StateFIPS  | Date columns....|\n",
    "| confirmed death cases | 3193       | 1269| countyFIPS | County Name | State | StateFIPS  | Date columns....|\n",
    "| county population     |3195        | 4   | countyFIPS| County Name | State  | Population | N/A      |\n",
    "| Senate county         | 3582       | 5   | N/A       | County Name | State  | Current votes | Total votes  |\n",
    "\n",
    "* Upon examining the table above, it is evident that there are two common column names in both the COVID-19 data and the Senate county dataset. \n",
    "* To integrate the COVID-19 data with the Senate county dataset, we can perform a merge based on either the county name or the state.\n",
    "\n"
   ]
  },
  {
   "cell_type": "markdown",
   "id": "41693ade",
   "metadata": {},
   "source": [
    "## Senate county data and covid 19 analysis\n",
    "* How have states and counties  elections been affected post-COVID?\n",
    "* Was there an increase in COVID cases or deaths during the election campaign? \n",
    "* To what extent did the number of cases and deaths, relative to the population, influence the results or outcome of the presidential election?"
   ]
  },
  {
   "cell_type": "code",
   "execution_count": null,
   "id": "7285b8ef",
   "metadata": {},
   "outputs": [],
   "source": []
  }
 ],
 "metadata": {
  "kernelspec": {
   "display_name": "Python 3 (ipykernel)",
   "language": "python",
   "name": "python3"
  },
  "language_info": {
   "codemirror_mode": {
    "name": "ipython",
    "version": 3
   },
   "file_extension": ".py",
   "mimetype": "text/x-python",
   "name": "python",
   "nbconvert_exporter": "python",
   "pygments_lexer": "ipython3",
   "version": "3.11.5"
  }
 },
 "nbformat": 4,
 "nbformat_minor": 5
}
