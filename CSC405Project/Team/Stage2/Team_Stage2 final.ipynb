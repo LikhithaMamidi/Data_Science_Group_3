{
 "cells": [
  {
   "cell_type": "markdown",
   "metadata": {},
   "source": [
    "# Compare the weekly statistics (Mean, Median, Mode) for number of Cases and Deaths across United States"
   ]
  },
  {
   "cell_type": "markdown",
   "metadata": {},
   "source": [
    "### Import pandas, numpy, plotly, Image and math"
   ]
  },
  {
   "cell_type": "code",
   "execution_count": 1,
   "metadata": {},
   "outputs": [],
   "source": [
    "import pandas as pd\n",
    "import numpy as np\n",
    "import plotly.graph_objects as go\n",
    "from IPython.display import Image\n",
    "import math"
   ]
  },
  {
   "cell_type": "markdown",
   "metadata": {},
   "source": [
    "### Read the Cases Dataset "
   ]
  },
  {
   "cell_type": "code",
   "execution_count": 2,
   "metadata": {},
   "outputs": [
    {
     "data": {
      "text/html": [
       "<div>\n",
       "<style scoped>\n",
       "    .dataframe tbody tr th:only-of-type {\n",
       "        vertical-align: middle;\n",
       "    }\n",
       "\n",
       "    .dataframe tbody tr th {\n",
       "        vertical-align: top;\n",
       "    }\n",
       "\n",
       "    .dataframe thead th {\n",
       "        text-align: right;\n",
       "    }\n",
       "</style>\n",
       "<table border=\"1\" class=\"dataframe\">\n",
       "  <thead>\n",
       "    <tr style=\"text-align: right;\">\n",
       "      <th></th>\n",
       "      <th>countyFIPS</th>\n",
       "      <th>County Name</th>\n",
       "      <th>State</th>\n",
       "      <th>StateFIPS</th>\n",
       "      <th>2020-01-22</th>\n",
       "      <th>2020-01-23</th>\n",
       "      <th>2020-01-24</th>\n",
       "      <th>2020-01-25</th>\n",
       "      <th>2020-01-26</th>\n",
       "      <th>2020-01-27</th>\n",
       "      <th>...</th>\n",
       "      <th>2023-07-14</th>\n",
       "      <th>2023-07-15</th>\n",
       "      <th>2023-07-16</th>\n",
       "      <th>2023-07-17</th>\n",
       "      <th>2023-07-18</th>\n",
       "      <th>2023-07-19</th>\n",
       "      <th>2023-07-20</th>\n",
       "      <th>2023-07-21</th>\n",
       "      <th>2023-07-22</th>\n",
       "      <th>2023-07-23</th>\n",
       "    </tr>\n",
       "  </thead>\n",
       "  <tbody>\n",
       "    <tr>\n",
       "      <th>0</th>\n",
       "      <td>0</td>\n",
       "      <td>Statewide Unallocated</td>\n",
       "      <td>AL</td>\n",
       "      <td>1</td>\n",
       "      <td>0</td>\n",
       "      <td>0</td>\n",
       "      <td>0</td>\n",
       "      <td>0</td>\n",
       "      <td>0</td>\n",
       "      <td>0</td>\n",
       "      <td>...</td>\n",
       "      <td>0</td>\n",
       "      <td>0</td>\n",
       "      <td>0</td>\n",
       "      <td>0</td>\n",
       "      <td>0</td>\n",
       "      <td>0</td>\n",
       "      <td>0</td>\n",
       "      <td>0</td>\n",
       "      <td>0</td>\n",
       "      <td>0</td>\n",
       "    </tr>\n",
       "    <tr>\n",
       "      <th>1</th>\n",
       "      <td>1001</td>\n",
       "      <td>Autauga County</td>\n",
       "      <td>AL</td>\n",
       "      <td>1</td>\n",
       "      <td>0</td>\n",
       "      <td>0</td>\n",
       "      <td>0</td>\n",
       "      <td>0</td>\n",
       "      <td>0</td>\n",
       "      <td>0</td>\n",
       "      <td>...</td>\n",
       "      <td>19913</td>\n",
       "      <td>19913</td>\n",
       "      <td>19913</td>\n",
       "      <td>19913</td>\n",
       "      <td>19913</td>\n",
       "      <td>19913</td>\n",
       "      <td>19913</td>\n",
       "      <td>19913</td>\n",
       "      <td>19913</td>\n",
       "      <td>19913</td>\n",
       "    </tr>\n",
       "    <tr>\n",
       "      <th>2</th>\n",
       "      <td>1003</td>\n",
       "      <td>Baldwin County</td>\n",
       "      <td>AL</td>\n",
       "      <td>1</td>\n",
       "      <td>0</td>\n",
       "      <td>0</td>\n",
       "      <td>0</td>\n",
       "      <td>0</td>\n",
       "      <td>0</td>\n",
       "      <td>0</td>\n",
       "      <td>...</td>\n",
       "      <td>70521</td>\n",
       "      <td>70521</td>\n",
       "      <td>70521</td>\n",
       "      <td>70521</td>\n",
       "      <td>70521</td>\n",
       "      <td>70521</td>\n",
       "      <td>70521</td>\n",
       "      <td>70521</td>\n",
       "      <td>70521</td>\n",
       "      <td>70521</td>\n",
       "    </tr>\n",
       "    <tr>\n",
       "      <th>3</th>\n",
       "      <td>1005</td>\n",
       "      <td>Barbour County</td>\n",
       "      <td>AL</td>\n",
       "      <td>1</td>\n",
       "      <td>0</td>\n",
       "      <td>0</td>\n",
       "      <td>0</td>\n",
       "      <td>0</td>\n",
       "      <td>0</td>\n",
       "      <td>0</td>\n",
       "      <td>...</td>\n",
       "      <td>7582</td>\n",
       "      <td>7582</td>\n",
       "      <td>7582</td>\n",
       "      <td>7582</td>\n",
       "      <td>7582</td>\n",
       "      <td>7582</td>\n",
       "      <td>7582</td>\n",
       "      <td>7582</td>\n",
       "      <td>7582</td>\n",
       "      <td>7582</td>\n",
       "    </tr>\n",
       "    <tr>\n",
       "      <th>4</th>\n",
       "      <td>1007</td>\n",
       "      <td>Bibb County</td>\n",
       "      <td>AL</td>\n",
       "      <td>1</td>\n",
       "      <td>0</td>\n",
       "      <td>0</td>\n",
       "      <td>0</td>\n",
       "      <td>0</td>\n",
       "      <td>0</td>\n",
       "      <td>0</td>\n",
       "      <td>...</td>\n",
       "      <td>8149</td>\n",
       "      <td>8149</td>\n",
       "      <td>8149</td>\n",
       "      <td>8149</td>\n",
       "      <td>8149</td>\n",
       "      <td>8149</td>\n",
       "      <td>8149</td>\n",
       "      <td>8149</td>\n",
       "      <td>8149</td>\n",
       "      <td>8149</td>\n",
       "    </tr>\n",
       "  </tbody>\n",
       "</table>\n",
       "<p>5 rows × 1269 columns</p>\n",
       "</div>"
      ],
      "text/plain": [
       "   countyFIPS            County Name State  StateFIPS  2020-01-22  2020-01-23  \\\n",
       "0           0  Statewide Unallocated    AL          1           0           0   \n",
       "1        1001        Autauga County     AL          1           0           0   \n",
       "2        1003        Baldwin County     AL          1           0           0   \n",
       "3        1005        Barbour County     AL          1           0           0   \n",
       "4        1007           Bibb County     AL          1           0           0   \n",
       "\n",
       "   2020-01-24  2020-01-25  2020-01-26  2020-01-27  ...  2023-07-14  \\\n",
       "0           0           0           0           0  ...           0   \n",
       "1           0           0           0           0  ...       19913   \n",
       "2           0           0           0           0  ...       70521   \n",
       "3           0           0           0           0  ...        7582   \n",
       "4           0           0           0           0  ...        8149   \n",
       "\n",
       "   2023-07-15  2023-07-16  2023-07-17  2023-07-18  2023-07-19  2023-07-20  \\\n",
       "0           0           0           0           0           0           0   \n",
       "1       19913       19913       19913       19913       19913       19913   \n",
       "2       70521       70521       70521       70521       70521       70521   \n",
       "3        7582        7582        7582        7582        7582        7582   \n",
       "4        8149        8149        8149        8149        8149        8149   \n",
       "\n",
       "   2023-07-21  2023-07-22  2023-07-23  \n",
       "0           0           0           0  \n",
       "1       19913       19913       19913  \n",
       "2       70521       70521       70521  \n",
       "3        7582        7582        7582  \n",
       "4        8149        8149        8149  \n",
       "\n",
       "[5 rows x 1269 columns]"
      ]
     },
     "execution_count": 2,
     "metadata": {},
     "output_type": "execute_result"
    }
   ],
   "source": [
    "cases = pd.read_csv('covid_confirmed_usafacts.csv')\n",
    "cases.head()"
   ]
  },
  {
   "cell_type": "markdown",
   "metadata": {},
   "source": [
    "### Read the Deaths Dataset "
   ]
  },
  {
   "cell_type": "code",
   "execution_count": 3,
   "metadata": {},
   "outputs": [
    {
     "data": {
      "text/html": [
       "<div>\n",
       "<style scoped>\n",
       "    .dataframe tbody tr th:only-of-type {\n",
       "        vertical-align: middle;\n",
       "    }\n",
       "\n",
       "    .dataframe tbody tr th {\n",
       "        vertical-align: top;\n",
       "    }\n",
       "\n",
       "    .dataframe thead th {\n",
       "        text-align: right;\n",
       "    }\n",
       "</style>\n",
       "<table border=\"1\" class=\"dataframe\">\n",
       "  <thead>\n",
       "    <tr style=\"text-align: right;\">\n",
       "      <th></th>\n",
       "      <th>countyFIPS</th>\n",
       "      <th>County Name</th>\n",
       "      <th>State</th>\n",
       "      <th>StateFIPS</th>\n",
       "      <th>2020-01-22</th>\n",
       "      <th>2020-01-23</th>\n",
       "      <th>2020-01-24</th>\n",
       "      <th>2020-01-25</th>\n",
       "      <th>2020-01-26</th>\n",
       "      <th>2020-01-27</th>\n",
       "      <th>...</th>\n",
       "      <th>2023-07-14</th>\n",
       "      <th>2023-07-15</th>\n",
       "      <th>2023-07-16</th>\n",
       "      <th>2023-07-17</th>\n",
       "      <th>2023-07-18</th>\n",
       "      <th>2023-07-19</th>\n",
       "      <th>2023-07-20</th>\n",
       "      <th>2023-07-21</th>\n",
       "      <th>2023-07-22</th>\n",
       "      <th>2023-07-23</th>\n",
       "    </tr>\n",
       "  </thead>\n",
       "  <tbody>\n",
       "    <tr>\n",
       "      <th>0</th>\n",
       "      <td>0</td>\n",
       "      <td>Statewide Unallocated</td>\n",
       "      <td>AL</td>\n",
       "      <td>1</td>\n",
       "      <td>0</td>\n",
       "      <td>0</td>\n",
       "      <td>0</td>\n",
       "      <td>0</td>\n",
       "      <td>0</td>\n",
       "      <td>0</td>\n",
       "      <td>...</td>\n",
       "      <td>0</td>\n",
       "      <td>0</td>\n",
       "      <td>0</td>\n",
       "      <td>0</td>\n",
       "      <td>0</td>\n",
       "      <td>0</td>\n",
       "      <td>0</td>\n",
       "      <td>0</td>\n",
       "      <td>0</td>\n",
       "      <td>0</td>\n",
       "    </tr>\n",
       "    <tr>\n",
       "      <th>1</th>\n",
       "      <td>1001</td>\n",
       "      <td>Autauga County</td>\n",
       "      <td>AL</td>\n",
       "      <td>1</td>\n",
       "      <td>0</td>\n",
       "      <td>0</td>\n",
       "      <td>0</td>\n",
       "      <td>0</td>\n",
       "      <td>0</td>\n",
       "      <td>0</td>\n",
       "      <td>...</td>\n",
       "      <td>235</td>\n",
       "      <td>235</td>\n",
       "      <td>235</td>\n",
       "      <td>235</td>\n",
       "      <td>235</td>\n",
       "      <td>235</td>\n",
       "      <td>235</td>\n",
       "      <td>235</td>\n",
       "      <td>235</td>\n",
       "      <td>235</td>\n",
       "    </tr>\n",
       "    <tr>\n",
       "      <th>2</th>\n",
       "      <td>1003</td>\n",
       "      <td>Baldwin County</td>\n",
       "      <td>AL</td>\n",
       "      <td>1</td>\n",
       "      <td>0</td>\n",
       "      <td>0</td>\n",
       "      <td>0</td>\n",
       "      <td>0</td>\n",
       "      <td>0</td>\n",
       "      <td>0</td>\n",
       "      <td>...</td>\n",
       "      <td>731</td>\n",
       "      <td>731</td>\n",
       "      <td>731</td>\n",
       "      <td>731</td>\n",
       "      <td>731</td>\n",
       "      <td>731</td>\n",
       "      <td>731</td>\n",
       "      <td>731</td>\n",
       "      <td>731</td>\n",
       "      <td>731</td>\n",
       "    </tr>\n",
       "    <tr>\n",
       "      <th>3</th>\n",
       "      <td>1005</td>\n",
       "      <td>Barbour County</td>\n",
       "      <td>AL</td>\n",
       "      <td>1</td>\n",
       "      <td>0</td>\n",
       "      <td>0</td>\n",
       "      <td>0</td>\n",
       "      <td>0</td>\n",
       "      <td>0</td>\n",
       "      <td>0</td>\n",
       "      <td>...</td>\n",
       "      <td>104</td>\n",
       "      <td>104</td>\n",
       "      <td>104</td>\n",
       "      <td>104</td>\n",
       "      <td>104</td>\n",
       "      <td>104</td>\n",
       "      <td>104</td>\n",
       "      <td>104</td>\n",
       "      <td>104</td>\n",
       "      <td>104</td>\n",
       "    </tr>\n",
       "    <tr>\n",
       "      <th>4</th>\n",
       "      <td>1007</td>\n",
       "      <td>Bibb County</td>\n",
       "      <td>AL</td>\n",
       "      <td>1</td>\n",
       "      <td>0</td>\n",
       "      <td>0</td>\n",
       "      <td>0</td>\n",
       "      <td>0</td>\n",
       "      <td>0</td>\n",
       "      <td>0</td>\n",
       "      <td>...</td>\n",
       "      <td>111</td>\n",
       "      <td>111</td>\n",
       "      <td>111</td>\n",
       "      <td>111</td>\n",
       "      <td>111</td>\n",
       "      <td>111</td>\n",
       "      <td>111</td>\n",
       "      <td>111</td>\n",
       "      <td>111</td>\n",
       "      <td>111</td>\n",
       "    </tr>\n",
       "  </tbody>\n",
       "</table>\n",
       "<p>5 rows × 1269 columns</p>\n",
       "</div>"
      ],
      "text/plain": [
       "   countyFIPS            County Name State  StateFIPS  2020-01-22  2020-01-23  \\\n",
       "0           0  Statewide Unallocated    AL          1           0           0   \n",
       "1        1001        Autauga County     AL          1           0           0   \n",
       "2        1003        Baldwin County     AL          1           0           0   \n",
       "3        1005        Barbour County     AL          1           0           0   \n",
       "4        1007           Bibb County     AL          1           0           0   \n",
       "\n",
       "   2020-01-24  2020-01-25  2020-01-26  2020-01-27  ...  2023-07-14  \\\n",
       "0           0           0           0           0  ...           0   \n",
       "1           0           0           0           0  ...         235   \n",
       "2           0           0           0           0  ...         731   \n",
       "3           0           0           0           0  ...         104   \n",
       "4           0           0           0           0  ...         111   \n",
       "\n",
       "   2023-07-15  2023-07-16  2023-07-17  2023-07-18  2023-07-19  2023-07-20  \\\n",
       "0           0           0           0           0           0           0   \n",
       "1         235         235         235         235         235         235   \n",
       "2         731         731         731         731         731         731   \n",
       "3         104         104         104         104         104         104   \n",
       "4         111         111         111         111         111         111   \n",
       "\n",
       "   2023-07-21  2023-07-22  2023-07-23  \n",
       "0           0           0           0  \n",
       "1         235         235         235  \n",
       "2         731         731         731  \n",
       "3         104         104         104  \n",
       "4         111         111         111  \n",
       "\n",
       "[5 rows x 1269 columns]"
      ]
     },
     "execution_count": 3,
     "metadata": {},
     "output_type": "execute_result"
    }
   ],
   "source": [
    "deaths = pd.read_csv(\"covid_deaths_usafacts.csv\")\n",
    "deaths.head()"
   ]
  },
  {
   "cell_type": "markdown",
   "metadata": {},
   "source": [
    "### We will narrow down to the timeframe between July and December of 2020 for the Cases Dataset."
   ]
  },
  {
   "cell_type": "code",
   "execution_count": 4,
   "metadata": {},
   "outputs": [
    {
     "data": {
      "text/html": [
       "<div>\n",
       "<style scoped>\n",
       "    .dataframe tbody tr th:only-of-type {\n",
       "        vertical-align: middle;\n",
       "    }\n",
       "\n",
       "    .dataframe tbody tr th {\n",
       "        vertical-align: top;\n",
       "    }\n",
       "\n",
       "    .dataframe thead th {\n",
       "        text-align: right;\n",
       "    }\n",
       "</style>\n",
       "<table border=\"1\" class=\"dataframe\">\n",
       "  <thead>\n",
       "    <tr style=\"text-align: right;\">\n",
       "      <th></th>\n",
       "      <th>countyFIPS</th>\n",
       "      <th>County Name</th>\n",
       "      <th>State</th>\n",
       "      <th>StateFIPS</th>\n",
       "      <th>2020-07-01</th>\n",
       "      <th>2020-07-02</th>\n",
       "      <th>2020-07-03</th>\n",
       "      <th>2020-07-04</th>\n",
       "      <th>2020-07-05</th>\n",
       "      <th>2020-07-06</th>\n",
       "      <th>...</th>\n",
       "      <th>2020-12-22</th>\n",
       "      <th>2020-12-23</th>\n",
       "      <th>2020-12-24</th>\n",
       "      <th>2020-12-25</th>\n",
       "      <th>2020-12-26</th>\n",
       "      <th>2020-12-27</th>\n",
       "      <th>2020-12-28</th>\n",
       "      <th>2020-12-29</th>\n",
       "      <th>2020-12-30</th>\n",
       "      <th>2020-12-31</th>\n",
       "    </tr>\n",
       "  </thead>\n",
       "  <tbody>\n",
       "    <tr>\n",
       "      <th>0</th>\n",
       "      <td>0</td>\n",
       "      <td>Statewide Unallocated</td>\n",
       "      <td>AL</td>\n",
       "      <td>1</td>\n",
       "      <td>0</td>\n",
       "      <td>0</td>\n",
       "      <td>0</td>\n",
       "      <td>0</td>\n",
       "      <td>0</td>\n",
       "      <td>0</td>\n",
       "      <td>...</td>\n",
       "      <td>0</td>\n",
       "      <td>0</td>\n",
       "      <td>0</td>\n",
       "      <td>0</td>\n",
       "      <td>0</td>\n",
       "      <td>0</td>\n",
       "      <td>0</td>\n",
       "      <td>0</td>\n",
       "      <td>0</td>\n",
       "      <td>0</td>\n",
       "    </tr>\n",
       "    <tr>\n",
       "      <th>1</th>\n",
       "      <td>1001</td>\n",
       "      <td>Autauga County</td>\n",
       "      <td>AL</td>\n",
       "      <td>1</td>\n",
       "      <td>553</td>\n",
       "      <td>561</td>\n",
       "      <td>568</td>\n",
       "      <td>591</td>\n",
       "      <td>615</td>\n",
       "      <td>618</td>\n",
       "      <td>...</td>\n",
       "      <td>3841</td>\n",
       "      <td>3889</td>\n",
       "      <td>3942</td>\n",
       "      <td>3990</td>\n",
       "      <td>3999</td>\n",
       "      <td>4029</td>\n",
       "      <td>4065</td>\n",
       "      <td>4105</td>\n",
       "      <td>4164</td>\n",
       "      <td>4190</td>\n",
       "    </tr>\n",
       "    <tr>\n",
       "      <th>2</th>\n",
       "      <td>1003</td>\n",
       "      <td>Baldwin County</td>\n",
       "      <td>AL</td>\n",
       "      <td>1</td>\n",
       "      <td>703</td>\n",
       "      <td>751</td>\n",
       "      <td>845</td>\n",
       "      <td>863</td>\n",
       "      <td>881</td>\n",
       "      <td>911</td>\n",
       "      <td>...</td>\n",
       "      <td>12155</td>\n",
       "      <td>12321</td>\n",
       "      <td>12521</td>\n",
       "      <td>12666</td>\n",
       "      <td>12708</td>\n",
       "      <td>12825</td>\n",
       "      <td>12962</td>\n",
       "      <td>13172</td>\n",
       "      <td>13392</td>\n",
       "      <td>13601</td>\n",
       "    </tr>\n",
       "    <tr>\n",
       "      <th>3</th>\n",
       "      <td>1005</td>\n",
       "      <td>Barbour County</td>\n",
       "      <td>AL</td>\n",
       "      <td>1</td>\n",
       "      <td>326</td>\n",
       "      <td>335</td>\n",
       "      <td>348</td>\n",
       "      <td>350</td>\n",
       "      <td>352</td>\n",
       "      <td>356</td>\n",
       "      <td>...</td>\n",
       "      <td>1363</td>\n",
       "      <td>1383</td>\n",
       "      <td>1390</td>\n",
       "      <td>1396</td>\n",
       "      <td>1398</td>\n",
       "      <td>1406</td>\n",
       "      <td>1417</td>\n",
       "      <td>1462</td>\n",
       "      <td>1492</td>\n",
       "      <td>1514</td>\n",
       "    </tr>\n",
       "    <tr>\n",
       "      <th>4</th>\n",
       "      <td>1007</td>\n",
       "      <td>Bibb County</td>\n",
       "      <td>AL</td>\n",
       "      <td>1</td>\n",
       "      <td>174</td>\n",
       "      <td>179</td>\n",
       "      <td>189</td>\n",
       "      <td>190</td>\n",
       "      <td>193</td>\n",
       "      <td>197</td>\n",
       "      <td>...</td>\n",
       "      <td>1660</td>\n",
       "      <td>1683</td>\n",
       "      <td>1711</td>\n",
       "      <td>1725</td>\n",
       "      <td>1739</td>\n",
       "      <td>1746</td>\n",
       "      <td>1762</td>\n",
       "      <td>1792</td>\n",
       "      <td>1817</td>\n",
       "      <td>1834</td>\n",
       "    </tr>\n",
       "  </tbody>\n",
       "</table>\n",
       "<p>5 rows × 188 columns</p>\n",
       "</div>"
      ],
      "text/plain": [
       "   countyFIPS            County Name State  StateFIPS  2020-07-01  2020-07-02  \\\n",
       "0           0  Statewide Unallocated    AL          1           0           0   \n",
       "1        1001        Autauga County     AL          1         553         561   \n",
       "2        1003        Baldwin County     AL          1         703         751   \n",
       "3        1005        Barbour County     AL          1         326         335   \n",
       "4        1007           Bibb County     AL          1         174         179   \n",
       "\n",
       "   2020-07-03  2020-07-04  2020-07-05  2020-07-06  ...  2020-12-22  \\\n",
       "0           0           0           0           0  ...           0   \n",
       "1         568         591         615         618  ...        3841   \n",
       "2         845         863         881         911  ...       12155   \n",
       "3         348         350         352         356  ...        1363   \n",
       "4         189         190         193         197  ...        1660   \n",
       "\n",
       "   2020-12-23  2020-12-24  2020-12-25  2020-12-26  2020-12-27  2020-12-28  \\\n",
       "0           0           0           0           0           0           0   \n",
       "1        3889        3942        3990        3999        4029        4065   \n",
       "2       12321       12521       12666       12708       12825       12962   \n",
       "3        1383        1390        1396        1398        1406        1417   \n",
       "4        1683        1711        1725        1739        1746        1762   \n",
       "\n",
       "   2020-12-29  2020-12-30  2020-12-31  \n",
       "0           0           0           0  \n",
       "1        4105        4164        4190  \n",
       "2       13172       13392       13601  \n",
       "3        1462        1492        1514  \n",
       "4        1792        1817        1834  \n",
       "\n",
       "[5 rows x 188 columns]"
      ]
     },
     "execution_count": 4,
     "metadata": {},
     "output_type": "execute_result"
    }
   ],
   "source": [
    "# Generate a list of columns that fall within the second half of the year 2020\n",
    "date_columns_of_interest = [date for date in cases.columns if '2020-07-01' <= date <= '2020-12-31']\n",
    "\n",
    "# Define a list of key columns that will be used alongside the date columns\n",
    "essential_columns = [\"countyFIPS\", \"County Name\", \"State\", \"StateFIPS\"]\n",
    "\n",
    "# Combine the essential details with the date-specific data\n",
    "columns_to_use = essential_columns + date_columns_of_interest\n",
    "\n",
    "# Filter the dataset to only include our columns of interest\n",
    "filtered_cases = cases[columns_to_use]\n",
    "\n",
    "# Display the initial few entries of the dataset for a quick preview\n",
    "filtered_cases.head()\n"
   ]
  },
  {
   "cell_type": "markdown",
   "metadata": {},
   "source": [
    "### Compile Weekly Case Totals in Untied States and Chart the Trends\n"
   ]
  },
  {
   "cell_type": "code",
   "execution_count": 5,
   "metadata": {},
   "outputs": [],
   "source": [
    "# July 1, 2020 is a Wednesday\n",
    "count = 2\n",
    "weekly_cases_us = []  # where Wednesday from each week is chosen\n",
    "\n",
    "for col in filtered_cases.columns:\n",
    "    if col not in essential_columns:\n",
    "        count = count + 1\n",
    "        if count % 7 == 0:  # Check if the column corresponds to a Wednesday\n",
    "            weekly_cases_us.append(filtered_cases[col].sum())\n",
    "\n",
    "# Convert the list to a pandas Series \n",
    "weekly_cases_us_data = pd.Series(weekly_cases_us)\n"
   ]
  },
  {
   "cell_type": "code",
   "execution_count": 6,
   "metadata": {},
   "outputs": [
    {
     "data": {
      "image/png": "[encoded data removed]",
      "text/plain": [
       "<IPython.core.display.Image object>"
      ]
     },
     "metadata": {},
     "output_type": "display_data"
    }
   ],
   "source": [
    "# Create a Plotly figure with custom dimensions and layout\n",
    "\n",
    "def plot_data(x_values, y_values, title, xaxis_label, yaxis_label, image_name):\n",
    "   \n",
    "    # Initialize a figure object\n",
    "    fig = go.Figure()\n",
    "\n",
    "    # Add a scatter trace to the figure\n",
    "    fig.add_trace(\n",
    "        go.Scatter(\n",
    "            x=x_values, \n",
    "            y=y_values,\n",
    "            mode='lines', \n",
    "            name='United States'\n",
    "        )\n",
    "    )\n",
    "\n",
    "    # Update the layout of the figure\n",
    "    fig.update_layout(\n",
    "        title=title,\n",
    "        xaxis_title=xaxis_label,\n",
    "        yaxis_title=yaxis_label,\n",
    "        showlegend=True,\n",
    "        width=1000,  \n",
    "        height=500   \n",
    "    )\n",
    "\n",
    "    fig.write_image(image_name)\n",
    "\n",
    "# Use the function to plot weekly cases across the United States\n",
    "plot_data(\n",
    "    weekly_cases_us_data.index, \n",
    "    weekly_cases_us_data,\n",
    "    'Trends in Weekly Cases Across the United States',\n",
    "    'Weeks (Jul 2020 - Dec 2020)',\n",
    "    'Cases (in millions)',\n",
    "    'us_cases_refactored.png'\n",
    ")\n",
    "\n",
    "# Display the saved image\n",
    "display(Image(filename='us_cases_refactored.png'))\n"
   ]
  },
  {
   "cell_type": "markdown",
   "metadata": {},
   "source": [
    "###  The Mean, Mode and Medium for the number of Cases across United States"
   ]
  },
  {
   "cell_type": "code",
   "execution_count": 7,
   "metadata": {},
   "outputs": [
    {
     "name": "stdout",
     "output_type": "stream",
     "text": [
      "Average of Cases across the United States from July to December 2020: 8605030.58\n",
      "Mode of Cases across United States from July to December 2020: 2961395\n",
      "Median of Cases across United States from July to December 2020: 7220652\n"
     ]
    }
   ],
   "source": [
    "average_cases = round(weekly_cases_us_data.mean(), 2)\n",
    "mode_cases = weekly_cases_us_data.mode().iloc[0]\n",
    "median_cases = int(weekly_cases_us_data.median())\n",
    "\n",
    "print(f\"Average of Cases across the United States from July to December 2020: {average_cases}\")\n",
    "print(f\"Mode of Cases across United States from July to December 2020: {mode_cases}\")\n",
    "print(f\"Median of Cases across United States from July to December 2020: {median_cases}\")\n"
   ]
  },
  {
   "cell_type": "markdown",
   "metadata": {},
   "source": [
    "### We will narrow down to the timeframe between July and December of 2020 for the Deaths dataset.\n"
   ]
  },
  {
   "cell_type": "code",
   "execution_count": 8,
   "metadata": {},
   "outputs": [
    {
     "data": {
      "text/html": [
       "<div>\n",
       "<style scoped>\n",
       "    .dataframe tbody tr th:only-of-type {\n",
       "        vertical-align: middle;\n",
       "    }\n",
       "\n",
       "    .dataframe tbody tr th {\n",
       "        vertical-align: top;\n",
       "    }\n",
       "\n",
       "    .dataframe thead th {\n",
       "        text-align: right;\n",
       "    }\n",
       "</style>\n",
       "<table border=\"1\" class=\"dataframe\">\n",
       "  <thead>\n",
       "    <tr style=\"text-align: right;\">\n",
       "      <th></th>\n",
       "      <th>countyFIPS</th>\n",
       "      <th>County Name</th>\n",
       "      <th>State</th>\n",
       "      <th>StateFIPS</th>\n",
       "      <th>2020-07-01</th>\n",
       "      <th>2020-07-02</th>\n",
       "      <th>2020-07-03</th>\n",
       "      <th>2020-07-04</th>\n",
       "      <th>2020-07-05</th>\n",
       "      <th>2020-07-06</th>\n",
       "      <th>...</th>\n",
       "      <th>2020-12-22</th>\n",
       "      <th>2020-12-23</th>\n",
       "      <th>2020-12-24</th>\n",
       "      <th>2020-12-25</th>\n",
       "      <th>2020-12-26</th>\n",
       "      <th>2020-12-27</th>\n",
       "      <th>2020-12-28</th>\n",
       "      <th>2020-12-29</th>\n",
       "      <th>2020-12-30</th>\n",
       "      <th>2020-12-31</th>\n",
       "    </tr>\n",
       "  </thead>\n",
       "  <tbody>\n",
       "    <tr>\n",
       "      <th>0</th>\n",
       "      <td>0</td>\n",
       "      <td>Statewide Unallocated</td>\n",
       "      <td>AL</td>\n",
       "      <td>1</td>\n",
       "      <td>0</td>\n",
       "      <td>0</td>\n",
       "      <td>0</td>\n",
       "      <td>0</td>\n",
       "      <td>0</td>\n",
       "      <td>0</td>\n",
       "      <td>...</td>\n",
       "      <td>0</td>\n",
       "      <td>0</td>\n",
       "      <td>0</td>\n",
       "      <td>0</td>\n",
       "      <td>0</td>\n",
       "      <td>0</td>\n",
       "      <td>0</td>\n",
       "      <td>0</td>\n",
       "      <td>0</td>\n",
       "      <td>0</td>\n",
       "    </tr>\n",
       "    <tr>\n",
       "      <th>1</th>\n",
       "      <td>1001</td>\n",
       "      <td>Autauga County</td>\n",
       "      <td>AL</td>\n",
       "      <td>1</td>\n",
       "      <td>12</td>\n",
       "      <td>13</td>\n",
       "      <td>13</td>\n",
       "      <td>13</td>\n",
       "      <td>13</td>\n",
       "      <td>13</td>\n",
       "      <td>...</td>\n",
       "      <td>44</td>\n",
       "      <td>46</td>\n",
       "      <td>46</td>\n",
       "      <td>46</td>\n",
       "      <td>46</td>\n",
       "      <td>47</td>\n",
       "      <td>47</td>\n",
       "      <td>47</td>\n",
       "      <td>48</td>\n",
       "      <td>48</td>\n",
       "    </tr>\n",
       "    <tr>\n",
       "      <th>2</th>\n",
       "      <td>1003</td>\n",
       "      <td>Baldwin County</td>\n",
       "      <td>AL</td>\n",
       "      <td>1</td>\n",
       "      <td>10</td>\n",
       "      <td>10</td>\n",
       "      <td>10</td>\n",
       "      <td>10</td>\n",
       "      <td>10</td>\n",
       "      <td>10</td>\n",
       "      <td>...</td>\n",
       "      <td>149</td>\n",
       "      <td>151</td>\n",
       "      <td>151</td>\n",
       "      <td>151</td>\n",
       "      <td>151</td>\n",
       "      <td>152</td>\n",
       "      <td>152</td>\n",
       "      <td>156</td>\n",
       "      <td>160</td>\n",
       "      <td>161</td>\n",
       "    </tr>\n",
       "    <tr>\n",
       "      <th>3</th>\n",
       "      <td>1005</td>\n",
       "      <td>Barbour County</td>\n",
       "      <td>AL</td>\n",
       "      <td>1</td>\n",
       "      <td>1</td>\n",
       "      <td>1</td>\n",
       "      <td>2</td>\n",
       "      <td>2</td>\n",
       "      <td>2</td>\n",
       "      <td>2</td>\n",
       "      <td>...</td>\n",
       "      <td>32</td>\n",
       "      <td>32</td>\n",
       "      <td>32</td>\n",
       "      <td>32</td>\n",
       "      <td>32</td>\n",
       "      <td>32</td>\n",
       "      <td>32</td>\n",
       "      <td>32</td>\n",
       "      <td>32</td>\n",
       "      <td>32</td>\n",
       "    </tr>\n",
       "    <tr>\n",
       "      <th>4</th>\n",
       "      <td>1007</td>\n",
       "      <td>Bibb County</td>\n",
       "      <td>AL</td>\n",
       "      <td>1</td>\n",
       "      <td>1</td>\n",
       "      <td>1</td>\n",
       "      <td>1</td>\n",
       "      <td>1</td>\n",
       "      <td>1</td>\n",
       "      <td>1</td>\n",
       "      <td>...</td>\n",
       "      <td>42</td>\n",
       "      <td>42</td>\n",
       "      <td>42</td>\n",
       "      <td>42</td>\n",
       "      <td>42</td>\n",
       "      <td>42</td>\n",
       "      <td>42</td>\n",
       "      <td>42</td>\n",
       "      <td>46</td>\n",
       "      <td>46</td>\n",
       "    </tr>\n",
       "  </tbody>\n",
       "</table>\n",
       "<p>5 rows × 188 columns</p>\n",
       "</div>"
      ],
      "text/plain": [
       "   countyFIPS            County Name State  StateFIPS  2020-07-01  2020-07-02  \\\n",
       "0           0  Statewide Unallocated    AL          1           0           0   \n",
       "1        1001        Autauga County     AL          1          12          13   \n",
       "2        1003        Baldwin County     AL          1          10          10   \n",
       "3        1005        Barbour County     AL          1           1           1   \n",
       "4        1007           Bibb County     AL          1           1           1   \n",
       "\n",
       "   2020-07-03  2020-07-04  2020-07-05  2020-07-06  ...  2020-12-22  \\\n",
       "0           0           0           0           0  ...           0   \n",
       "1          13          13          13          13  ...          44   \n",
       "2          10          10          10          10  ...         149   \n",
       "3           2           2           2           2  ...          32   \n",
       "4           1           1           1           1  ...          42   \n",
       "\n",
       "   2020-12-23  2020-12-24  2020-12-25  2020-12-26  2020-12-27  2020-12-28  \\\n",
       "0           0           0           0           0           0           0   \n",
       "1          46          46          46          46          47          47   \n",
       "2         151         151         151         151         152         152   \n",
       "3          32          32          32          32          32          32   \n",
       "4          42          42          42          42          42          42   \n",
       "\n",
       "   2020-12-29  2020-12-30  2020-12-31  \n",
       "0           0           0           0  \n",
       "1          47          48          48  \n",
       "2         156         160         161  \n",
       "3          32          32          32  \n",
       "4          42          46          46  \n",
       "\n",
       "[5 rows x 188 columns]"
      ]
     },
     "execution_count": 8,
     "metadata": {},
     "output_type": "execute_result"
    }
   ],
   "source": [
    "# Generate a list of columns that fall within the second half of the year 2020\n",
    "date_columns_of_interest = [date for date in cases.columns if '2020-07-01' <= date <= '2020-12-31']\n",
    "\n",
    "# Define a list of key columns that will be used alongside the date columns\n",
    "essential_columns = [\"countyFIPS\", \"County Name\", \"State\", \"StateFIPS\"]\n",
    "\n",
    "# Combine the essential details with the date-specific data\n",
    "columns_to_use = essential_columns + date_columns_of_interest\n",
    "\n",
    "# Filter the dataset to only include our columns of interest\n",
    "filtered_deaths = deaths[columns_to_use]\n",
    "\n",
    "# Display the initial few entries of the dataset for a quick preview\n",
    "filtered_deaths.head()"
   ]
  },
  {
   "cell_type": "markdown",
   "metadata": {},
   "source": [
    "### Compile Weekly Death Totals in Untied States and Chart the Trends\n"
   ]
  },
  {
   "cell_type": "code",
   "execution_count": 9,
   "metadata": {},
   "outputs": [],
   "source": [
    "# July 1, 2020 is a Wednesday\n",
    "count = 2\n",
    "weekly_deaths_us = []  # where Wednesday from each week is chosen\n",
    "\n",
    "for col in filtered_deaths.columns:\n",
    "     if col not in essential_columns:\n",
    "        count = count + 1\n",
    "        if count % 7 == 0:  # Check if the column corresponds to a Wednesday\n",
    "            weekly_deaths_us.append(filtered_deaths[col].sum())\n",
    "\n",
    "# Convert the list to a pandas Series \n",
    "weekly_deaths_us_data = pd.Series(weekly_deaths_us)\n"
   ]
  },
  {
   "cell_type": "code",
   "execution_count": 10,
   "metadata": {},
   "outputs": [
    {
     "data": {
      "image/png": "[encoded data removed]",
      "text/plain": [
       "<IPython.core.display.Image object>"
      ]
     },
     "execution_count": 10,
     "metadata": {},
     "output_type": "execute_result"
    }
   ],
   "source": [
    "# Create a Plotly figure with custom dimensions and layout\n",
    "\n",
    "def plot_data(x_values, y_values, title, xaxis_label, yaxis_label, image_name):\n",
    "    \n",
    "    # Initialize a figure object\n",
    "    fig = go.Figure()\n",
    "\n",
    "    # Add a scatter trace to the figure\n",
    "    fig.add_trace(\n",
    "        go.Scatter(\n",
    "            x=x_values, \n",
    "            y=y_values,\n",
    "            mode='lines', \n",
    "            name='United States'\n",
    "        )\n",
    "    )\n",
    "\n",
    "    # Update the layout of the figure\n",
    "    fig.update_layout(\n",
    "        title=title,\n",
    "        xaxis_title=xaxis_label,\n",
    "        yaxis_title=yaxis_label,\n",
    "        showlegend=True,\n",
    "        width=1000,  \n",
    "        height=500   \n",
    "    )\n",
    "\n",
    "    # Save the figure as an image file\n",
    "    fig.write_image(image_name)\n",
    "\n",
    "# Use the function to plot weekly deaths across the United States\n",
    "plot_data(\n",
    "    weekly_deaths_us_data.index, \n",
    "    weekly_deaths_us_data,\n",
    "    'Trends in Weekly Deaths Across the United States',\n",
    "    'Weeks (Jul 2020 - Dec 2020)',\n",
    "    'Deaths (in thousands)',\n",
    "    'us_deaths_refactored.png'\n",
    ")\n",
    "\n",
    "# Display the saved image\n",
    "Image(filename='us_deaths_refactored.png')"
   ]
  },
  {
   "cell_type": "markdown",
   "metadata": {},
   "source": [
    "### The Mean, Mode, and Median for the number of deaths across the United States"
   ]
  },
  {
   "cell_type": "code",
   "execution_count": 11,
   "metadata": {},
   "outputs": [
    {
     "name": "stdout",
     "output_type": "stream",
     "text": [
      "Average number of Deaths across the United States from July to December 2020: 215118.12\n",
      "Mode of Deaths across United States from July to December 2020: 131290\n",
      "Median of Deaths across United States from July to December 2020: 207878\n"
     ]
    }
   ],
   "source": [
    "average_deaths = round(weekly_deaths_us_data.mean(), 2)\n",
    "mode_deaths = weekly_deaths_us_data.mode().iloc[0]\n",
    "median_deaths = int(weekly_deaths_us_data.median())\n",
    "\n",
    "print(f\"Average number of Deaths across the United States from July to December 2020: {average_deaths}\")\n",
    "print(f\"Mode of Deaths across United States from July to December 2020: {mode_deaths}\")\n",
    "print(f\"Median of Deaths across United States from July to December 2020: {median_deaths}\")"
   ]
  },
  {
   "cell_type": "markdown",
   "metadata": {},
   "source": [
    "## Picking the five countries in the world to compare to the US."
   ]
  },
  {
   "cell_type": "code",
   "execution_count": 12,
   "metadata": {},
   "outputs": [
    {
     "data": {
      "text/html": [
       "<div>\n",
       "<style scoped>\n",
       "    .dataframe tbody tr th:only-of-type {\n",
       "        vertical-align: middle;\n",
       "    }\n",
       "\n",
       "    .dataframe tbody tr th {\n",
       "        vertical-align: top;\n",
       "    }\n",
       "\n",
       "    .dataframe thead th {\n",
       "        text-align: right;\n",
       "    }\n",
       "</style>\n",
       "<table border=\"1\" class=\"dataframe\">\n",
       "  <thead>\n",
       "    <tr style=\"text-align: right;\">\n",
       "      <th></th>\n",
       "      <th>continent</th>\n",
       "      <th>location</th>\n",
       "      <th>date</th>\n",
       "      <th>new_cases</th>\n",
       "      <th>total_cases</th>\n",
       "      <th>new_deaths</th>\n",
       "      <th>total_deaths</th>\n",
       "      <th>population</th>\n",
       "    </tr>\n",
       "  </thead>\n",
       "  <tbody>\n",
       "    <tr>\n",
       "      <th>0</th>\n",
       "      <td>North America</td>\n",
       "      <td>Canada</td>\n",
       "      <td>2020-07-01</td>\n",
       "      <td>0.0</td>\n",
       "      <td>102783.0</td>\n",
       "      <td>0.0</td>\n",
       "      <td>8475.0</td>\n",
       "      <td>38454328.0</td>\n",
       "    </tr>\n",
       "    <tr>\n",
       "      <th>1</th>\n",
       "      <td>North America</td>\n",
       "      <td>Canada</td>\n",
       "      <td>2020-07-02</td>\n",
       "      <td>0.0</td>\n",
       "      <td>102783.0</td>\n",
       "      <td>0.0</td>\n",
       "      <td>8475.0</td>\n",
       "      <td>38454328.0</td>\n",
       "    </tr>\n",
       "    <tr>\n",
       "      <th>2</th>\n",
       "      <td>North America</td>\n",
       "      <td>Canada</td>\n",
       "      <td>2020-07-03</td>\n",
       "      <td>0.0</td>\n",
       "      <td>102783.0</td>\n",
       "      <td>0.0</td>\n",
       "      <td>8475.0</td>\n",
       "      <td>38454328.0</td>\n",
       "    </tr>\n",
       "    <tr>\n",
       "      <th>3</th>\n",
       "      <td>North America</td>\n",
       "      <td>Canada</td>\n",
       "      <td>2020-07-04</td>\n",
       "      <td>0.0</td>\n",
       "      <td>102783.0</td>\n",
       "      <td>0.0</td>\n",
       "      <td>8475.0</td>\n",
       "      <td>38454328.0</td>\n",
       "    </tr>\n",
       "    <tr>\n",
       "      <th>4</th>\n",
       "      <td>North America</td>\n",
       "      <td>Canada</td>\n",
       "      <td>2020-07-05</td>\n",
       "      <td>2296.0</td>\n",
       "      <td>105079.0</td>\n",
       "      <td>152.0</td>\n",
       "      <td>8627.0</td>\n",
       "      <td>38454328.0</td>\n",
       "    </tr>\n",
       "    <tr>\n",
       "      <th>...</th>\n",
       "      <td>...</td>\n",
       "      <td>...</td>\n",
       "      <td>...</td>\n",
       "      <td>...</td>\n",
       "      <td>...</td>\n",
       "      <td>...</td>\n",
       "      <td>...</td>\n",
       "      <td>...</td>\n",
       "    </tr>\n",
       "    <tr>\n",
       "      <th>915</th>\n",
       "      <td>Europe</td>\n",
       "      <td>Russia</td>\n",
       "      <td>2020-12-27</td>\n",
       "      <td>201871.0</td>\n",
       "      <td>3050248.0</td>\n",
       "      <td>3920.0</td>\n",
       "      <td>54778.0</td>\n",
       "      <td>144713312.0</td>\n",
       "    </tr>\n",
       "    <tr>\n",
       "      <th>916</th>\n",
       "      <td>Europe</td>\n",
       "      <td>Russia</td>\n",
       "      <td>2020-12-28</td>\n",
       "      <td>0.0</td>\n",
       "      <td>3050248.0</td>\n",
       "      <td>0.0</td>\n",
       "      <td>54778.0</td>\n",
       "      <td>144713312.0</td>\n",
       "    </tr>\n",
       "    <tr>\n",
       "      <th>917</th>\n",
       "      <td>Europe</td>\n",
       "      <td>Russia</td>\n",
       "      <td>2020-12-29</td>\n",
       "      <td>0.0</td>\n",
       "      <td>3050248.0</td>\n",
       "      <td>0.0</td>\n",
       "      <td>54778.0</td>\n",
       "      <td>144713312.0</td>\n",
       "    </tr>\n",
       "    <tr>\n",
       "      <th>918</th>\n",
       "      <td>Europe</td>\n",
       "      <td>Russia</td>\n",
       "      <td>2020-12-30</td>\n",
       "      <td>0.0</td>\n",
       "      <td>3050248.0</td>\n",
       "      <td>0.0</td>\n",
       "      <td>54778.0</td>\n",
       "      <td>144713312.0</td>\n",
       "    </tr>\n",
       "    <tr>\n",
       "      <th>919</th>\n",
       "      <td>Europe</td>\n",
       "      <td>Russia</td>\n",
       "      <td>2020-12-31</td>\n",
       "      <td>0.0</td>\n",
       "      <td>3050248.0</td>\n",
       "      <td>0.0</td>\n",
       "      <td>54778.0</td>\n",
       "      <td>144713312.0</td>\n",
       "    </tr>\n",
       "  </tbody>\n",
       "</table>\n",
       "<p>920 rows × 8 columns</p>\n",
       "</div>"
      ],
      "text/plain": [
       "         continent location       date  new_cases  total_cases  new_deaths  \\\n",
       "0    North America   Canada 2020-07-01        0.0     102783.0         0.0   \n",
       "1    North America   Canada 2020-07-02        0.0     102783.0         0.0   \n",
       "2    North America   Canada 2020-07-03        0.0     102783.0         0.0   \n",
       "3    North America   Canada 2020-07-04        0.0     102783.0         0.0   \n",
       "4    North America   Canada 2020-07-05     2296.0     105079.0       152.0   \n",
       "..             ...      ...        ...        ...          ...         ...   \n",
       "915         Europe   Russia 2020-12-27   201871.0    3050248.0      3920.0   \n",
       "916         Europe   Russia 2020-12-28        0.0    3050248.0         0.0   \n",
       "917         Europe   Russia 2020-12-29        0.0    3050248.0         0.0   \n",
       "918         Europe   Russia 2020-12-30        0.0    3050248.0         0.0   \n",
       "919         Europe   Russia 2020-12-31        0.0    3050248.0         0.0   \n",
       "\n",
       "     total_deaths   population  \n",
       "0          8475.0   38454328.0  \n",
       "1          8475.0   38454328.0  \n",
       "2          8475.0   38454328.0  \n",
       "3          8475.0   38454328.0  \n",
       "4          8627.0   38454328.0  \n",
       "..            ...          ...  \n",
       "915       54778.0  144713312.0  \n",
       "916       54778.0  144713312.0  \n",
       "917       54778.0  144713312.0  \n",
       "918       54778.0  144713312.0  \n",
       "919       54778.0  144713312.0  \n",
       "\n",
       "[920 rows x 8 columns]"
      ]
     },
     "execution_count": 12,
     "metadata": {},
     "output_type": "execute_result"
    }
   ],
   "source": [
    "# Load the dataset containing COVID-19 data\n",
    "global_covid_data = pd.read_csv(\"owid-covid-data.csv\", low_memory=False)\n",
    "\n",
    "# Define a list of countries for focused analysis\n",
    "target_countries = [\"India\", \"China\", \"France\", \"Canada\", \"Russia\"]\n",
    "\n",
    "# Select relevant columns and filter the dataset for the target countries\n",
    "refined_covid_data = global_covid_data[\n",
    "    [\"continent\", \"location\", \"date\", \"new_cases\", \"total_cases\", \"new_deaths\", \"total_deaths\", \"population\"]\n",
    "].query(\"location in @target_countries\")\n",
    "\n",
    "# Ensure the 'date' column is in datetime format to enable date range filtering\n",
    "refined_covid_data['date'] = pd.to_datetime(refined_covid_data['date'])\n",
    "\n",
    "# Filter the dataset for the specified date range\n",
    "date_range_start = pd.Timestamp('2020-07-01')\n",
    "date_range_end = pd.Timestamp('2020-12-31')\n",
    "refined_covid_data = refined_covid_data[\n",
    "    (refined_covid_data['date'] >= date_range_start) & (refined_covid_data['date'] <= date_range_end)\n",
    "]\n",
    "\n",
    "refined_covid_data.reset_index(drop=True, inplace=True)\n",
    "refined_covid_data"
   ]
  },
  {
   "cell_type": "markdown",
   "metadata": {},
   "source": [
    "## Let’s Look at the Differences:"
   ]
  },
  {
   "cell_type": "code",
   "execution_count": 13,
   "metadata": {},
   "outputs": [
    {
     "data": {
      "image/png": "[encoded data removed]",
      "text/plain": [
       "<IPython.core.display.Image object>"
      ]
     },
     "metadata": {},
     "output_type": "display_data"
    }
   ],
   "source": [
    "# Simplified extraction of unique weeks\n",
    "unique_weeks = refined_covid_data['date'].dt.to_period('W').unique()\n",
    "\n",
    "# Initialize dictionaries to hold weekly case and death data\n",
    "weekly_data_cases = {country: [] for country in target_countries}\n",
    "weekly_data_deaths = {country: [] for country in target_countries}\n",
    "\n",
    "# Loop over each country and each week to sum cases and deaths\n",
    "for country in target_countries:\n",
    "    country_data = refined_covid_data[refined_covid_data['location'] == country]\n",
    "    for week in unique_weeks:\n",
    "        weekly_data = country_data[country_data['date'].dt.to_period('W') == week]\n",
    "        weekly_data_cases[country].append(weekly_data['new_cases'].sum())\n",
    "        weekly_data_deaths[country].append(weekly_data['new_deaths'].sum())\n",
    "\n",
    "# Convert the weekly data to pandas Series and then to a DataFrame\n",
    "df_weekly_cases = pd.DataFrame(weekly_data_cases)\n",
    "# Assuming weekly_cases_us_data is defined elsewhere and contains the US data\n",
    "df_weekly_cases['United States'] = weekly_cases_us_data[:len(df_weekly_cases)]\n",
    "\n",
    "# Plotting the weekly case data\n",
    "fig_cases = go.Figure()\n",
    "\n",
    "# Add traces for each country\n",
    "for country in df_weekly_cases.columns:\n",
    "    fig_cases.add_trace(go.Scatter(x=df_weekly_cases.index, y=df_weekly_cases[country], mode='lines', name=country))\n",
    "\n",
    "# Update layout for the figure\n",
    "fig_cases.update_layout(\n",
    "    title='Weekly Covid Cases Across Selected Countries',\n",
    "    xaxis_title='Week Number',\n",
    "    yaxis_title='Number of Cases',\n",
    "    showlegend=True,\n",
    "    width=800,\n",
    "    height=500\n",
    ")\n",
    "\n",
    "# Save the figure as a PNG image\n",
    "img_filename_cases = \"countries_comparison_cases.png\"\n",
    "fig_cases.write_image(img_filename_cases)\n",
    "\n",
    "# Display the image\n",
    "display(Image(filename=img_filename_cases))\n"
   ]
  },
  {
   "cell_type": "code",
   "execution_count": 14,
   "metadata": {},
   "outputs": [
    {
     "data": {
      "application/vnd.plotly.v1+json": {
       "config": {
        "plotlyServerURL": "https://plot.ly"
       },
       "data": [
        {
         "mode": "lines+markers",
         "name": "United States",
         "type": "scatter",
         "x": [
          0,
          1,
          2,
          3,
          4,
          5,
          6,
          7,
          8,
          9,
          10,
          11,
          12,
          13,
          14,
          15,
          16,
          17,
          18,
          19,
          20,
          21,
          22,
          23,
          24,
          25,
          26
         ],
         "y": [
          131290,
          137167,
          143630,
          150928,
          158716,
          166028,
          173212,
          179465,
          185567,
          190933,
          195644,
          200699,
          205577,
          210180,
          215078,
          219891,
          225625,
          231696,
          239188,
          247841,
          258842,
          270297,
          286289,
          304522,
          324336,
          340430,
          null
         ]
        },
        {
         "mode": "lines+markers",
         "name": "India",
         "type": "scatter",
         "x": [
          0,
          1,
          2,
          3,
          4,
          5,
          6,
          7,
          8,
          9,
          10,
          11,
          12,
          13,
          14,
          15,
          16,
          17,
          18,
          19,
          20,
          21,
          22,
          23,
          24,
          25,
          26
         ],
         "y": [
          3173,
          3406,
          4142,
          5247,
          5301,
          6015,
          6601,
          6726,
          6792,
          7128,
          7960,
          8166,
          7751,
          7279,
          6552,
          5697,
          4503,
          3577,
          4010,
          3514,
          3592,
          3469,
          3486,
          2837,
          2458,
          2145,
          0
         ]
        },
        {
         "mode": "lines+markers",
         "name": "China",
         "type": "scatter",
         "x": [
          0,
          1,
          2,
          3,
          4,
          5,
          6,
          7,
          8,
          9,
          10,
          11,
          12,
          13,
          14,
          15,
          16,
          17,
          18,
          19,
          20,
          21,
          22,
          23,
          24,
          25,
          26
         ],
         "y": [
          0,
          0,
          5,
          6,
          15,
          14,
          22,
          7,
          11,
          7,
          6,
          3,
          2,
          0,
          0,
          0,
          0,
          0,
          2,
          1,
          0,
          1,
          3,
          3,
          14,
          7,
          0
         ]
        },
        {
         "mode": "lines+markers",
         "name": "France",
         "type": "scatter",
         "x": [
          0,
          1,
          2,
          3,
          4,
          5,
          6,
          7,
          8,
          9,
          10,
          11,
          12,
          13,
          14,
          15,
          16,
          17,
          18,
          19,
          20,
          21,
          22,
          23,
          24,
          25,
          26
         ],
         "y": [
          100,
          120,
          94,
          98,
          77,
          69,
          92,
          118,
          111,
          126,
          258,
          429,
          559,
          561,
          690,
          963,
          1774,
          3154,
          4794,
          5487,
          5602,
          4679,
          3963,
          3792,
          3383,
          3119,
          0
         ]
        },
        {
         "mode": "lines+markers",
         "name": "Canada",
         "type": "scatter",
         "x": [
          0,
          1,
          2,
          3,
          4,
          5,
          6,
          7,
          8,
          9,
          10,
          11,
          12,
          13,
          14,
          15,
          16,
          17,
          18,
          19,
          20,
          21,
          22,
          23,
          24,
          25,
          26
         ],
         "y": [
          152,
          96,
          79,
          42,
          53,
          35,
          50,
          44,
          49,
          29,
          22,
          41,
          50,
          153,
          175,
          136,
          163,
          216,
          320,
          391,
          500,
          551,
          596,
          748,
          781,
          787,
          0
         ]
        },
        {
         "mode": "lines+markers",
         "name": "Russia",
         "type": "scatter",
         "x": [
          0,
          1,
          2,
          3,
          4,
          5,
          6,
          7,
          8,
          9,
          10,
          11,
          12,
          13,
          14,
          15,
          16,
          17,
          18,
          19,
          20,
          21,
          22,
          23,
          24,
          25,
          26
         ],
         "y": [
          1088,
          1174,
          1007,
          927,
          859,
          803,
          754,
          698,
          710,
          727,
          758,
          840,
          906,
          1034,
          1239,
          1590,
          1863,
          2185,
          2302,
          2649,
          2993,
          3348,
          3614,
          3800,
          3917,
          3920,
          0
         ]
        }
       ],
       "layout": {
        "height": 600,
        "legend": {
         "title": {
          "text": "Country"
         }
        },
        "showlegend": true,
        "template": {
         "data": {
          "bar": [
           {
            "error_x": {
             "color": "#2a3f5f"
            },
            "error_y": {
             "color": "#2a3f5f"
            },
            "marker": {
             "line": {
              "color": "#E5ECF6",
              "width": 0.5
             },
             "pattern": {
              "fillmode": "overlay",
              "size": 10,
              "solidity": 0.2
             }
            },
            "type": "bar"
           }
          ],
          "barpolar": [
           {
            "marker": {
             "line": {
              "color": "#E5ECF6",
              "width": 0.5
             },
             "pattern": {
              "fillmode": "overlay",
              "size": 10,
              "solidity": 0.2
             }
            },
            "type": "barpolar"
           }
          ],
          "carpet": [
           {
            "aaxis": {
             "endlinecolor": "#2a3f5f",
             "gridcolor": "white",
             "linecolor": "white",
             "minorgridcolor": "white",
             "startlinecolor": "#2a3f5f"
            },
            "baxis": {
             "endlinecolor": "#2a3f5f",
             "gridcolor": "white",
             "linecolor": "white",
             "minorgridcolor": "white",
             "startlinecolor": "#2a3f5f"
            },
            "type": "carpet"
           }
          ],
          "choropleth": [
           {
            "colorbar": {
             "outlinewidth": 0,
             "ticks": ""
            },
            "type": "choropleth"
           }
          ],
          "contour": [
           {
            "colorbar": {
             "outlinewidth": 0,
             "ticks": ""
            },
            "colorscale": [
             [
              0,
              "#0d0887"
             ],
             [
              0.1111111111111111,
              "#46039f"
             ],
             [
              0.2222222222222222,
              "#7201a8"
             ],
             [
              0.3333333333333333,
              "#9c179e"
             ],
             [
              0.4444444444444444,
              "#bd3786"
             ],
             [
              0.5555555555555556,
              "#d8576b"
             ],
             [
              0.6666666666666666,
              "#ed7953"
             ],
             [
              0.7777777777777778,
              "#fb9f3a"
             ],
             [
              0.8888888888888888,
              "#fdca26"
             ],
             [
              1,
              "#f0f921"
             ]
            ],
            "type": "contour"
           }
          ],
          "contourcarpet": [
           {
            "colorbar": {
             "outlinewidth": 0,
             "ticks": ""
            },
            "type": "contourcarpet"
           }
          ],
          "heatmap": [
           {
            "colorbar": {
             "outlinewidth": 0,
             "ticks": ""
            },
            "colorscale": [
             [
              0,
              "#0d0887"
             ],
             [
              0.1111111111111111,
              "#46039f"
             ],
             [
              0.2222222222222222,
              "#7201a8"
             ],
             [
              0.3333333333333333,
              "#9c179e"
             ],
             [
              0.4444444444444444,
              "#bd3786"
             ],
             [
              0.5555555555555556,
              "#d8576b"
             ],
             [
              0.6666666666666666,
              "#ed7953"
             ],
             [
              0.7777777777777778,
              "#fb9f3a"
             ],
             [
              0.8888888888888888,
              "#fdca26"
             ],
             [
              1,
              "#f0f921"
             ]
            ],
            "type": "heatmap"
           }
          ],
          "heatmapgl": [
           {
            "colorbar": {
             "outlinewidth": 0,
             "ticks": ""
            },
            "colorscale": [
             [
              0,
              "#0d0887"
             ],
             [
              0.1111111111111111,
              "#46039f"
             ],
             [
              0.2222222222222222,
              "#7201a8"
             ],
             [
              0.3333333333333333,
              "#9c179e"
             ],
             [
              0.4444444444444444,
              "#bd3786"
             ],
             [
              0.5555555555555556,
              "#d8576b"
             ],
             [
              0.6666666666666666,
              "#ed7953"
             ],
             [
              0.7777777777777778,
              "#fb9f3a"
             ],
             [
              0.8888888888888888,
              "#fdca26"
             ],
             [
              1,
              "#f0f921"
             ]
            ],
            "type": "heatmapgl"
           }
          ],
          "histogram": [
           {
            "marker": {
             "pattern": {
              "fillmode": "overlay",
              "size": 10,
              "solidity": 0.2
             }
            },
            "type": "histogram"
           }
          ],
          "histogram2d": [
           {
            "colorbar": {
             "outlinewidth": 0,
             "ticks": ""
            },
            "colorscale": [
             [
              0,
              "#0d0887"
             ],
             [
              0.1111111111111111,
              "#46039f"
             ],
             [
              0.2222222222222222,
              "#7201a8"
             ],
             [
              0.3333333333333333,
              "#9c179e"
             ],
             [
              0.4444444444444444,
              "#bd3786"
             ],
             [
              0.5555555555555556,
              "#d8576b"
             ],
             [
              0.6666666666666666,
              "#ed7953"
             ],
             [
              0.7777777777777778,
              "#fb9f3a"
             ],
             [
              0.8888888888888888,
              "#fdca26"
             ],
             [
              1,
              "#f0f921"
             ]
            ],
            "type": "histogram2d"
           }
          ],
          "histogram2dcontour": [
           {
            "colorbar": {
             "outlinewidth": 0,
             "ticks": ""
            },
            "colorscale": [
             [
              0,
              "#0d0887"
             ],
             [
              0.1111111111111111,
              "#46039f"
             ],
             [
              0.2222222222222222,
              "#7201a8"
             ],
             [
              0.3333333333333333,
              "#9c179e"
             ],
             [
              0.4444444444444444,
              "#bd3786"
             ],
             [
              0.5555555555555556,
              "#d8576b"
             ],
             [
              0.6666666666666666,
              "#ed7953"
             ],
             [
              0.7777777777777778,
              "#fb9f3a"
             ],
             [
              0.8888888888888888,
              "#fdca26"
             ],
             [
              1,
              "#f0f921"
             ]
            ],
            "type": "histogram2dcontour"
           }
          ],
          "mesh3d": [
           {
            "colorbar": {
             "outlinewidth": 0,
             "ticks": ""
            },
            "type": "mesh3d"
           }
          ],
          "parcoords": [
           {
            "line": {
             "colorbar": {
              "outlinewidth": 0,
              "ticks": ""
             }
            },
            "type": "parcoords"
           }
          ],
          "pie": [
           {
            "automargin": true,
            "type": "pie"
           }
          ],
          "scatter": [
           {
            "fillpattern": {
             "fillmode": "overlay",
             "size": 10,
             "solidity": 0.2
            },
            "type": "scatter"
           }
          ],
          "scatter3d": [
           {
            "line": {
             "colorbar": {
              "outlinewidth": 0,
              "ticks": ""
             }
            },
            "marker": {
             "colorbar": {
              "outlinewidth": 0,
              "ticks": ""
             }
            },
            "type": "scatter3d"
           }
          ],
          "scattercarpet": [
           {
            "marker": {
             "colorbar": {
              "outlinewidth": 0,
              "ticks": ""
             }
            },
            "type": "scattercarpet"
           }
          ],
          "scattergeo": [
           {
            "marker": {
             "colorbar": {
              "outlinewidth": 0,
              "ticks": ""
             }
            },
            "type": "scattergeo"
           }
          ],
          "scattergl": [
           {
            "marker": {
             "colorbar": {
              "outlinewidth": 0,
              "ticks": ""
             }
            },
            "type": "scattergl"
           }
          ],
          "scattermapbox": [
           {
            "marker": {
             "colorbar": {
              "outlinewidth": 0,
              "ticks": ""
             }
            },
            "type": "scattermapbox"
           }
          ],
          "scatterpolar": [
           {
            "marker": {
             "colorbar": {
              "outlinewidth": 0,
              "ticks": ""
             }
            },
            "type": "scatterpolar"
           }
          ],
          "scatterpolargl": [
           {
            "marker": {
             "colorbar": {
              "outlinewidth": 0,
              "ticks": ""
             }
            },
            "type": "scatterpolargl"
           }
          ],
          "scatterternary": [
           {
            "marker": {
             "colorbar": {
              "outlinewidth": 0,
              "ticks": ""
             }
            },
            "type": "scatterternary"
           }
          ],
          "surface": [
           {
            "colorbar": {
             "outlinewidth": 0,
             "ticks": ""
            },
            "colorscale": [
             [
              0,
              "#0d0887"
             ],
             [
              0.1111111111111111,
              "#46039f"
             ],
             [
              0.2222222222222222,
              "#7201a8"
             ],
             [
              0.3333333333333333,
              "#9c179e"
             ],
             [
              0.4444444444444444,
              "#bd3786"
             ],
             [
              0.5555555555555556,
              "#d8576b"
             ],
             [
              0.6666666666666666,
              "#ed7953"
             ],
             [
              0.7777777777777778,
              "#fb9f3a"
             ],
             [
              0.8888888888888888,
              "#fdca26"
             ],
             [
              1,
              "#f0f921"
             ]
            ],
            "type": "surface"
           }
          ],
          "table": [
           {
            "cells": {
             "fill": {
              "color": "#EBF0F8"
             },
             "line": {
              "color": "white"
             }
            },
            "header": {
             "fill": {
              "color": "#C8D4E3"
             },
             "line": {
              "color": "white"
             }
            },
            "type": "table"
           }
          ]
         },
         "layout": {
          "annotationdefaults": {
           "arrowcolor": "#2a3f5f",
           "arrowhead": 0,
           "arrowwidth": 1
          },
          "autotypenumbers": "strict",
          "coloraxis": {
           "colorbar": {
            "outlinewidth": 0,
            "ticks": ""
           }
          },
          "colorscale": {
           "diverging": [
            [
             0,
             "#8e0152"
            ],
            [
             0.1,
             "#c51b7d"
            ],
            [
             0.2,
             "#de77ae"
            ],
            [
             0.3,
             "#f1b6da"
            ],
            [
             0.4,
             "#fde0ef"
            ],
            [
             0.5,
             "#f7f7f7"
            ],
            [
             0.6,
             "#e6f5d0"
            ],
            [
             0.7,
             "#b8e186"
            ],
            [
             0.8,
             "#7fbc41"
            ],
            [
             0.9,
             "#4d9221"
            ],
            [
             1,
             "#276419"
            ]
           ],
           "sequential": [
            [
             0,
             "#0d0887"
            ],
            [
             0.1111111111111111,
             "#46039f"
            ],
            [
             0.2222222222222222,
             "#7201a8"
            ],
            [
             0.3333333333333333,
             "#9c179e"
            ],
            [
             0.4444444444444444,
             "#bd3786"
            ],
            [
             0.5555555555555556,
             "#d8576b"
            ],
            [
             0.6666666666666666,
             "#ed7953"
            ],
            [
             0.7777777777777778,
             "#fb9f3a"
            ],
            [
             0.8888888888888888,
             "#fdca26"
            ],
            [
             1,
             "#f0f921"
            ]
           ],
           "sequentialminus": [
            [
             0,
             "#0d0887"
            ],
            [
             0.1111111111111111,
             "#46039f"
            ],
            [
             0.2222222222222222,
             "#7201a8"
            ],
            [
             0.3333333333333333,
             "#9c179e"
            ],
            [
             0.4444444444444444,
             "#bd3786"
            ],
            [
             0.5555555555555556,
             "#d8576b"
            ],
            [
             0.6666666666666666,
             "#ed7953"
            ],
            [
             0.7777777777777778,
             "#fb9f3a"
            ],
            [
             0.8888888888888888,
             "#fdca26"
            ],
            [
             1,
             "#f0f921"
            ]
           ]
          },
          "colorway": [
           "#636efa",
           "#EF553B",
           "#00cc96",
           "#ab63fa",
           "#FFA15A",
           "#19d3f3",
           "#FF6692",
           "#B6E880",
           "#FF97FF",
           "#FECB52"
          ],
          "font": {
           "color": "#2a3f5f"
          },
          "geo": {
           "bgcolor": "white",
           "lakecolor": "white",
           "landcolor": "#E5ECF6",
           "showlakes": true,
           "showland": true,
           "subunitcolor": "white"
          },
          "hoverlabel": {
           "align": "left"
          },
          "hovermode": "closest",
          "mapbox": {
           "style": "light"
          },
          "paper_bgcolor": "white",
          "plot_bgcolor": "#E5ECF6",
          "polar": {
           "angularaxis": {
            "gridcolor": "white",
            "linecolor": "white",
            "ticks": ""
           },
           "bgcolor": "#E5ECF6",
           "radialaxis": {
            "gridcolor": "white",
            "linecolor": "white",
            "ticks": ""
           }
          },
          "scene": {
           "xaxis": {
            "backgroundcolor": "#E5ECF6",
            "gridcolor": "white",
            "gridwidth": 2,
            "linecolor": "white",
            "showbackground": true,
            "ticks": "",
            "zerolinecolor": "white"
           },
           "yaxis": {
            "backgroundcolor": "#E5ECF6",
            "gridcolor": "white",
            "gridwidth": 2,
            "linecolor": "white",
            "showbackground": true,
            "ticks": "",
            "zerolinecolor": "white"
           },
           "zaxis": {
            "backgroundcolor": "#E5ECF6",
            "gridcolor": "white",
            "gridwidth": 2,
            "linecolor": "white",
            "showbackground": true,
            "ticks": "",
            "zerolinecolor": "white"
           }
          },
          "shapedefaults": {
           "line": {
            "color": "#2a3f5f"
           }
          },
          "ternary": {
           "aaxis": {
            "gridcolor": "white",
            "linecolor": "white",
            "ticks": ""
           },
           "baxis": {
            "gridcolor": "white",
            "linecolor": "white",
            "ticks": ""
           },
           "bgcolor": "#E5ECF6",
           "caxis": {
            "gridcolor": "white",
            "linecolor": "white",
            "ticks": ""
           }
          },
          "title": {
           "x": 0.05
          },
          "xaxis": {
           "automargin": true,
           "gridcolor": "white",
           "linecolor": "white",
           "ticks": "",
           "title": {
            "standoff": 15
           },
           "zerolinecolor": "white",
           "zerolinewidth": 2
          },
          "yaxis": {
           "automargin": true,
           "gridcolor": "white",
           "linecolor": "white",
           "ticks": "",
           "title": {
            "standoff": 15
           },
           "zerolinecolor": "white",
           "zerolinewidth": 2
          }
         }
        },
        "title": {
         "text": "Weekly Covid Deaths Across Selected Countries"
        },
        "width": 1000,
        "xaxis": {
         "title": {
          "text": "Week Number (Starting July 2020)"
         }
        },
        "yaxis": {
         "title": {
          "text": "Number of Deaths (in thousands)"
         }
        }
       }
      }
     },
     "metadata": {},
     "output_type": "display_data"
    }
   ],
   "source": [
    "def create_death_trend_figure(data, title, x_label, y_label, file_name):\n",
    "    # Initialize the figure object\n",
    "    fig = go.Figure()\n",
    "\n",
    "    # Add traces for each country\n",
    "    for country, deaths in data.items():\n",
    "        fig.add_trace(go.Scatter(\n",
    "            x=data.index, \n",
    "            y=deaths, \n",
    "            mode='lines+markers',  # Added markers for better visibility\n",
    "            name=country\n",
    "        ))\n",
    "\n",
    "    # Update layout to include titles and axis labels\n",
    "    fig.update_layout(\n",
    "        title=title,\n",
    "        xaxis_title=x_label,\n",
    "        yaxis_title=y_label,\n",
    "        legend_title=\"Country\",\n",
    "        showlegend=True,\n",
    "        width=1000,  # Adjusted for a wider figure\n",
    "        height=600    # Adjusted for a taller figure\n",
    "    )\n",
    "\n",
    "    # Save the figure as an image file\n",
    "    fig.write_image(file_name)\n",
    "    return fig\n",
    "\n",
    "# Create a DataFrame for deaths\n",
    "country_deaths = pd.DataFrame({\n",
    "    \"United States\": pd.Series(weekly_deaths_us_data),\n",
    "    \"India\": pd.Series(weekly_data_deaths.get(\"India\", [0] * len(weekly_deaths_us_data))),\n",
    "    \"China\": pd.Series(weekly_data_deaths.get(\"China\", [0] * len(weekly_deaths_us_data))),\n",
    "    \"France\": pd.Series(weekly_data_deaths.get(\"France\", [0] * len(weekly_deaths_us_data))),\n",
    "    \"Canada\": pd.Series(weekly_data_deaths.get(\"Canada\", [0] * len(weekly_deaths_us_data))),\n",
    "    \"Russia\": pd.Series(weekly_data_deaths.get(\"Russia\", [0] * len(weekly_deaths_us_data)))\n",
    "})\n",
    "\n",
    "# Call the function to create and display the figure\n",
    "fig = create_death_trend_figure(\n",
    "    country_deaths,\n",
    "    'Weekly Covid Deaths Across Selected Countries',\n",
    "    'Week Number (Starting July 2020)',\n",
    "    'Number of Deaths (in thousands)',\n",
    "    \"five_countries_comparison_deaths.png\"\n",
    ")\n",
    "\n",
    "# Display the figure\n",
    "fig.show()"
   ]
  },
  {
   "cell_type": "markdown",
   "metadata": {},
   "source": [
    "## Normalize the data by population.\n"
   ]
  },
  {
   "cell_type": "code",
   "execution_count": 15,
   "metadata": {},
   "outputs": [
    {
     "data": {
      "application/vnd.plotly.v1+json": {
       "config": {
        "plotlyServerURL": "https://plot.ly"
       },
       "data": [
        {
         "mode": "lines+markers",
         "name": "United States",
         "type": "scatter",
         "x": [
          0,
          1,
          2,
          3,
          4,
          5,
          6,
          7,
          8,
          9,
          10,
          11,
          12,
          13,
          14,
          15,
          16,
          17,
          18,
          19,
          20,
          21,
          22,
          23,
          24,
          25,
          26
         ],
         "y": [
          2961395,
          3387712,
          3856816,
          4303499,
          4719867,
          5082446,
          5406755,
          5689908,
          5972021,
          6247589,
          6485334,
          6763219,
          7069807,
          7371498,
          7712473,
          8110024,
          8578637,
          9214833,
          10000648,
          11071050,
          12280817,
          13424933,
          14847602,
          16363412,
          17848765,
          18959735,
          null
         ]
        },
        {
         "mode": "lines+markers",
         "name": "India",
         "type": "scatter",
         "x": [
          0,
          1,
          2,
          3,
          4,
          5,
          6,
          7,
          8,
          9,
          10,
          11,
          12,
          13,
          14,
          15,
          16,
          17,
          18,
          19,
          20,
          21,
          22,
          23,
          24,
          25,
          26
         ],
         "y": [
          144306,
          176388,
          228065,
          307904,
          365201,
          402287,
          436672,
          455258,
          497793,
          571078,
          640545,
          646263,
          591913,
          556841,
          504433,
          440745,
          370260,
          319271,
          323672,
          306825,
          281227,
          297113,
          251303,
          212807,
          174194,
          156627,
          0
         ]
        },
        {
         "mode": "lines+markers",
         "name": "China",
         "type": "scatter",
         "x": [
          0,
          1,
          2,
          3,
          4,
          5,
          6,
          7,
          8,
          9,
          10,
          11,
          12,
          13,
          14,
          15,
          16,
          17,
          18,
          19,
          20,
          21,
          22,
          23,
          24,
          25,
          26
         ],
         "y": [
          116,
          216,
          415,
          902,
          1463,
          847,
          612,
          380,
          210,
          166,
          149,
          174,
          126,
          155,
          184,
          184,
          185,
          247,
          274,
          233,
          220,
          681,
          831,
          790,
          766,
          608,
          0
         ]
        },
        {
         "mode": "lines+markers",
         "name": "France",
         "type": "scatter",
         "x": [
          0,
          1,
          2,
          3,
          4,
          5,
          6,
          7,
          8,
          9,
          10,
          11,
          12,
          13,
          14,
          15,
          16,
          17,
          18,
          19,
          20,
          21,
          22,
          23,
          24,
          25,
          26
         ],
         "y": [
          2324,
          2853,
          3510,
          5565,
          7676,
          10899,
          16650,
          25208,
          37753,
          50197,
          61432,
          73481,
          72509,
          74819,
          116159,
          167835,
          261329,
          332505,
          303116,
          176429,
          114947,
          77077,
          71372,
          77674,
          92919,
          83888,
          0
         ]
        },
        {
         "mode": "lines+markers",
         "name": "Canada",
         "type": "scatter",
         "x": [
          0,
          1,
          2,
          3,
          4,
          5,
          6,
          7,
          8,
          9,
          10,
          11,
          12,
          13,
          14,
          15,
          16,
          17,
          18,
          19,
          20,
          21,
          22,
          23,
          24,
          25,
          26
         ],
         "y": [
          2296,
          2035,
          2544,
          3535,
          3105,
          2672,
          2682,
          2720,
          2938,
          3814,
          4502,
          6285,
          8545,
          12203,
          15458,
          15989,
          17626,
          20267,
          23810,
          31509,
          33401,
          38345,
          43504,
          46271,
          46504,
          43898,
          0
         ]
        },
        {
         "mode": "lines+markers",
         "name": "Russia",
         "type": "scatter",
         "x": [
          0,
          1,
          2,
          3,
          4,
          5,
          6,
          7,
          8,
          9,
          10,
          11,
          12,
          13,
          14,
          15,
          16,
          17,
          18,
          19,
          20,
          21,
          22,
          23,
          24,
          25,
          26
         ],
         "y": [
          46814,
          45911,
          44384,
          40939,
          38385,
          36666,
          35317,
          33896,
          33577,
          35179,
          37306,
          40588,
          48039,
          63563,
          83717,
          100616,
          114543,
          122904,
          137553,
          151491,
          163504,
          179987,
          191454,
          193158,
          194449,
          201871,
          0
         ]
        }
       ],
       "layout": {
        "height": 600,
        "legend": {
         "title": {
          "text": "Country"
         }
        },
        "showlegend": true,
        "template": {
         "data": {
          "bar": [
           {
            "error_x": {
             "color": "#2a3f5f"
            },
            "error_y": {
             "color": "#2a3f5f"
            },
            "marker": {
             "line": {
              "color": "#E5ECF6",
              "width": 0.5
             },
             "pattern": {
              "fillmode": "overlay",
              "size": 10,
              "solidity": 0.2
             }
            },
            "type": "bar"
           }
          ],
          "barpolar": [
           {
            "marker": {
             "line": {
              "color": "#E5ECF6",
              "width": 0.5
             },
             "pattern": {
              "fillmode": "overlay",
              "size": 10,
              "solidity": 0.2
             }
            },
            "type": "barpolar"
           }
          ],
          "carpet": [
           {
            "aaxis": {
             "endlinecolor": "#2a3f5f",
             "gridcolor": "white",
             "linecolor": "white",
             "minorgridcolor": "white",
             "startlinecolor": "#2a3f5f"
            },
            "baxis": {
             "endlinecolor": "#2a3f5f",
             "gridcolor": "white",
             "linecolor": "white",
             "minorgridcolor": "white",
             "startlinecolor": "#2a3f5f"
            },
            "type": "carpet"
           }
          ],
          "choropleth": [
           {
            "colorbar": {
             "outlinewidth": 0,
             "ticks": ""
            },
            "type": "choropleth"
           }
          ],
          "contour": [
           {
            "colorbar": {
             "outlinewidth": 0,
             "ticks": ""
            },
            "colorscale": [
             [
              0,
              "#0d0887"
             ],
             [
              0.1111111111111111,
              "#46039f"
             ],
             [
              0.2222222222222222,
              "#7201a8"
             ],
             [
              0.3333333333333333,
              "#9c179e"
             ],
             [
              0.4444444444444444,
              "#bd3786"
             ],
             [
              0.5555555555555556,
              "#d8576b"
             ],
             [
              0.6666666666666666,
              "#ed7953"
             ],
             [
              0.7777777777777778,
              "#fb9f3a"
             ],
             [
              0.8888888888888888,
              "#fdca26"
             ],
             [
              1,
              "#f0f921"
             ]
            ],
            "type": "contour"
           }
          ],
          "contourcarpet": [
           {
            "colorbar": {
             "outlinewidth": 0,
             "ticks": ""
            },
            "type": "contourcarpet"
           }
          ],
          "heatmap": [
           {
            "colorbar": {
             "outlinewidth": 0,
             "ticks": ""
            },
            "colorscale": [
             [
              0,
              "#0d0887"
             ],
             [
              0.1111111111111111,
              "#46039f"
             ],
             [
              0.2222222222222222,
              "#7201a8"
             ],
             [
              0.3333333333333333,
              "#9c179e"
             ],
             [
              0.4444444444444444,
              "#bd3786"
             ],
             [
              0.5555555555555556,
              "#d8576b"
             ],
             [
              0.6666666666666666,
              "#ed7953"
             ],
             [
              0.7777777777777778,
              "#fb9f3a"
             ],
             [
              0.8888888888888888,
              "#fdca26"
             ],
             [
              1,
              "#f0f921"
             ]
            ],
            "type": "heatmap"
           }
          ],
          "heatmapgl": [
           {
            "colorbar": {
             "outlinewidth": 0,
             "ticks": ""
            },
            "colorscale": [
             [
              0,
              "#0d0887"
             ],
             [
              0.1111111111111111,
              "#46039f"
             ],
             [
              0.2222222222222222,
              "#7201a8"
             ],
             [
              0.3333333333333333,
              "#9c179e"
             ],
             [
              0.4444444444444444,
              "#bd3786"
             ],
             [
              0.5555555555555556,
              "#d8576b"
             ],
             [
              0.6666666666666666,
              "#ed7953"
             ],
             [
              0.7777777777777778,
              "#fb9f3a"
             ],
             [
              0.8888888888888888,
              "#fdca26"
             ],
             [
              1,
              "#f0f921"
             ]
            ],
            "type": "heatmapgl"
           }
          ],
          "histogram": [
           {
            "marker": {
             "pattern": {
              "fillmode": "overlay",
              "size": 10,
              "solidity": 0.2
             }
            },
            "type": "histogram"
           }
          ],
          "histogram2d": [
           {
            "colorbar": {
             "outlinewidth": 0,
             "ticks": ""
            },
            "colorscale": [
             [
              0,
              "#0d0887"
             ],
             [
              0.1111111111111111,
              "#46039f"
             ],
             [
              0.2222222222222222,
              "#7201a8"
             ],
             [
              0.3333333333333333,
              "#9c179e"
             ],
             [
              0.4444444444444444,
              "#bd3786"
             ],
             [
              0.5555555555555556,
              "#d8576b"
             ],
             [
              0.6666666666666666,
              "#ed7953"
             ],
             [
              0.7777777777777778,
              "#fb9f3a"
             ],
             [
              0.8888888888888888,
              "#fdca26"
             ],
             [
              1,
              "#f0f921"
             ]
            ],
            "type": "histogram2d"
           }
          ],
          "histogram2dcontour": [
           {
            "colorbar": {
             "outlinewidth": 0,
             "ticks": ""
            },
            "colorscale": [
             [
              0,
              "#0d0887"
             ],
             [
              0.1111111111111111,
              "#46039f"
             ],
             [
              0.2222222222222222,
              "#7201a8"
             ],
             [
              0.3333333333333333,
              "#9c179e"
             ],
             [
              0.4444444444444444,
              "#bd3786"
             ],
             [
              0.5555555555555556,
              "#d8576b"
             ],
             [
              0.6666666666666666,
              "#ed7953"
             ],
             [
              0.7777777777777778,
              "#fb9f3a"
             ],
             [
              0.8888888888888888,
              "#fdca26"
             ],
             [
              1,
              "#f0f921"
             ]
            ],
            "type": "histogram2dcontour"
           }
          ],
          "mesh3d": [
           {
            "colorbar": {
             "outlinewidth": 0,
             "ticks": ""
            },
            "type": "mesh3d"
           }
          ],
          "parcoords": [
           {
            "line": {
             "colorbar": {
              "outlinewidth": 0,
              "ticks": ""
             }
            },
            "type": "parcoords"
           }
          ],
          "pie": [
           {
            "automargin": true,
            "type": "pie"
           }
          ],
          "scatter": [
           {
            "fillpattern": {
             "fillmode": "overlay",
             "size": 10,
             "solidity": 0.2
            },
            "type": "scatter"
           }
          ],
          "scatter3d": [
           {
            "line": {
             "colorbar": {
              "outlinewidth": 0,
              "ticks": ""
             }
            },
            "marker": {
             "colorbar": {
              "outlinewidth": 0,
              "ticks": ""
             }
            },
            "type": "scatter3d"
           }
          ],
          "scattercarpet": [
           {
            "marker": {
             "colorbar": {
              "outlinewidth": 0,
              "ticks": ""
             }
            },
            "type": "scattercarpet"
           }
          ],
          "scattergeo": [
           {
            "marker": {
             "colorbar": {
              "outlinewidth": 0,
              "ticks": ""
             }
            },
            "type": "scattergeo"
           }
          ],
          "scattergl": [
           {
            "marker": {
             "colorbar": {
              "outlinewidth": 0,
              "ticks": ""
             }
            },
            "type": "scattergl"
           }
          ],
          "scattermapbox": [
           {
            "marker": {
             "colorbar": {
              "outlinewidth": 0,
              "ticks": ""
             }
            },
            "type": "scattermapbox"
           }
          ],
          "scatterpolar": [
           {
            "marker": {
             "colorbar": {
              "outlinewidth": 0,
              "ticks": ""
             }
            },
            "type": "scatterpolar"
           }
          ],
          "scatterpolargl": [
           {
            "marker": {
             "colorbar": {
              "outlinewidth": 0,
              "ticks": ""
             }
            },
            "type": "scatterpolargl"
           }
          ],
          "scatterternary": [
           {
            "marker": {
             "colorbar": {
              "outlinewidth": 0,
              "ticks": ""
             }
            },
            "type": "scatterternary"
           }
          ],
          "surface": [
           {
            "colorbar": {
             "outlinewidth": 0,
             "ticks": ""
            },
            "colorscale": [
             [
              0,
              "#0d0887"
             ],
             [
              0.1111111111111111,
              "#46039f"
             ],
             [
              0.2222222222222222,
              "#7201a8"
             ],
             [
              0.3333333333333333,
              "#9c179e"
             ],
             [
              0.4444444444444444,
              "#bd3786"
             ],
             [
              0.5555555555555556,
              "#d8576b"
             ],
             [
              0.6666666666666666,
              "#ed7953"
             ],
             [
              0.7777777777777778,
              "#fb9f3a"
             ],
             [
              0.8888888888888888,
              "#fdca26"
             ],
             [
              1,
              "#f0f921"
             ]
            ],
            "type": "surface"
           }
          ],
          "table": [
           {
            "cells": {
             "fill": {
              "color": "#EBF0F8"
             },
             "line": {
              "color": "white"
             }
            },
            "header": {
             "fill": {
              "color": "#C8D4E3"
             },
             "line": {
              "color": "white"
             }
            },
            "type": "table"
           }
          ]
         },
         "layout": {
          "annotationdefaults": {
           "arrowcolor": "#2a3f5f",
           "arrowhead": 0,
           "arrowwidth": 1
          },
          "autotypenumbers": "strict",
          "coloraxis": {
           "colorbar": {
            "outlinewidth": 0,
            "ticks": ""
           }
          },
          "colorscale": {
           "diverging": [
            [
             0,
             "#8e0152"
            ],
            [
             0.1,
             "#c51b7d"
            ],
            [
             0.2,
             "#de77ae"
            ],
            [
             0.3,
             "#f1b6da"
            ],
            [
             0.4,
             "#fde0ef"
            ],
            [
             0.5,
             "#f7f7f7"
            ],
            [
             0.6,
             "#e6f5d0"
            ],
            [
             0.7,
             "#b8e186"
            ],
            [
             0.8,
             "#7fbc41"
            ],
            [
             0.9,
             "#4d9221"
            ],
            [
             1,
             "#276419"
            ]
           ],
           "sequential": [
            [
             0,
             "#0d0887"
            ],
            [
             0.1111111111111111,
             "#46039f"
            ],
            [
             0.2222222222222222,
             "#7201a8"
            ],
            [
             0.3333333333333333,
             "#9c179e"
            ],
            [
             0.4444444444444444,
             "#bd3786"
            ],
            [
             0.5555555555555556,
             "#d8576b"
            ],
            [
             0.6666666666666666,
             "#ed7953"
            ],
            [
             0.7777777777777778,
             "#fb9f3a"
            ],
            [
             0.8888888888888888,
             "#fdca26"
            ],
            [
             1,
             "#f0f921"
            ]
           ],
           "sequentialminus": [
            [
             0,
             "#0d0887"
            ],
            [
             0.1111111111111111,
             "#46039f"
            ],
            [
             0.2222222222222222,
             "#7201a8"
            ],
            [
             0.3333333333333333,
             "#9c179e"
            ],
            [
             0.4444444444444444,
             "#bd3786"
            ],
            [
             0.5555555555555556,
             "#d8576b"
            ],
            [
             0.6666666666666666,
             "#ed7953"
            ],
            [
             0.7777777777777778,
             "#fb9f3a"
            ],
            [
             0.8888888888888888,
             "#fdca26"
            ],
            [
             1,
             "#f0f921"
            ]
           ]
          },
          "colorway": [
           "#636efa",
           "#EF553B",
           "#00cc96",
           "#ab63fa",
           "#FFA15A",
           "#19d3f3",
           "#FF6692",
           "#B6E880",
           "#FF97FF",
           "#FECB52"
          ],
          "font": {
           "color": "#2a3f5f"
          },
          "geo": {
           "bgcolor": "white",
           "lakecolor": "white",
           "landcolor": "#E5ECF6",
           "showlakes": true,
           "showland": true,
           "subunitcolor": "white"
          },
          "hoverlabel": {
           "align": "left"
          },
          "hovermode": "closest",
          "mapbox": {
           "style": "light"
          },
          "paper_bgcolor": "white",
          "plot_bgcolor": "#E5ECF6",
          "polar": {
           "angularaxis": {
            "gridcolor": "white",
            "linecolor": "white",
            "ticks": ""
           },
           "bgcolor": "#E5ECF6",
           "radialaxis": {
            "gridcolor": "white",
            "linecolor": "white",
            "ticks": ""
           }
          },
          "scene": {
           "xaxis": {
            "backgroundcolor": "#E5ECF6",
            "gridcolor": "white",
            "gridwidth": 2,
            "linecolor": "white",
            "showbackground": true,
            "ticks": "",
            "zerolinecolor": "white"
           },
           "yaxis": {
            "backgroundcolor": "#E5ECF6",
            "gridcolor": "white",
            "gridwidth": 2,
            "linecolor": "white",
            "showbackground": true,
            "ticks": "",
            "zerolinecolor": "white"
           },
           "zaxis": {
            "backgroundcolor": "#E5ECF6",
            "gridcolor": "white",
            "gridwidth": 2,
            "linecolor": "white",
            "showbackground": true,
            "ticks": "",
            "zerolinecolor": "white"
           }
          },
          "shapedefaults": {
           "line": {
            "color": "#2a3f5f"
           }
          },
          "ternary": {
           "aaxis": {
            "gridcolor": "white",
            "linecolor": "white",
            "ticks": ""
           },
           "baxis": {
            "gridcolor": "white",
            "linecolor": "white",
            "ticks": ""
           },
           "bgcolor": "#E5ECF6",
           "caxis": {
            "gridcolor": "white",
            "linecolor": "white",
            "ticks": ""
           }
          },
          "title": {
           "x": 0.05
          },
          "xaxis": {
           "automargin": true,
           "gridcolor": "white",
           "linecolor": "white",
           "ticks": "",
           "title": {
            "standoff": 15
           },
           "zerolinecolor": "white",
           "zerolinewidth": 2
          },
          "yaxis": {
           "automargin": true,
           "gridcolor": "white",
           "linecolor": "white",
           "ticks": "",
           "title": {
            "standoff": 15
           },
           "zerolinecolor": "white",
           "zerolinewidth": 2
          }
         }
        },
        "title": {
         "text": "Weekly Covid Cases Across Selected Countries"
        },
        "width": 1000,
        "xaxis": {
         "title": {
          "text": "Week Number (Starting July 2020)"
         }
        },
        "yaxis": {
         "title": {
          "text": "Number of Cases"
         }
        }
       }
      }
     },
     "metadata": {},
     "output_type": "display_data"
    }
   ],
   "source": [
    "def create_country_case_trend_figure(data, title, x_label, y_label, file_name):\n",
    "    # Initialize the figure object\n",
    "    fig = go.Figure()\n",
    "\n",
    "    # Add traces for each country\n",
    "    for country, cases in data.items():\n",
    "        fig.add_trace(go.Scatter(\n",
    "            x=data.index, \n",
    "            y=cases, \n",
    "            mode='lines+markers',  # Added markers for better visibility\n",
    "            name=country\n",
    "        ))\n",
    "\n",
    "    # Update layout to include titles and axis labels\n",
    "    fig.update_layout(\n",
    "        title=title,\n",
    "        xaxis_title=x_label,\n",
    "        yaxis_title=y_label,\n",
    "        legend_title=\"Country\",\n",
    "        showlegend=True,\n",
    "        width=1000,  \\\n",
    "        height=600    \n",
    "    )\n",
    "\n",
    "    # Save the figure as an image file\n",
    "    fig.write_image(file_name)\n",
    "    return fig\n",
    "\n",
    "# Create a DataFrame for cases\n",
    "country_cases = pd.DataFrame({\n",
    "    \"United States\": pd.Series(weekly_cases_us_data),\n",
    "    \"India\": pd.Series(weekly_data_cases.get(\"India\", [0] * len(weekly_cases_us_data))),\n",
    "    \"China\": pd.Series(weekly_data_cases.get(\"China\", [0] * len(weekly_cases_us_data))),\n",
    "    \"France\": pd.Series(weekly_data_cases.get(\"France\", [0] * len(weekly_cases_us_data))),\n",
    "    \"Canada\": pd.Series(weekly_data_cases.get(\"Canada\", [0] * len(weekly_cases_us_data))),\n",
    "    \"Russia\": pd.Series(weekly_data_cases.get(\"Russia\", [0] * len(weekly_cases_us_data)))\n",
    "})\n",
    "\n",
    "# Call the function to create and display the figure\n",
    "fig = create_country_case_trend_figure(\n",
    "    country_cases,\n",
    "    'Weekly Covid Cases Across Selected Countries',\n",
    "    'Week Number (Starting July 2020)',\n",
    "    'Number of Cases',\n",
    "    \"five_countries_comparison_cases.png\"\n",
    ")\n",
    "\n",
    "# Display the figure\n",
    "fig.show()\n"
   ]
  },
  {
   "cell_type": "code",
   "execution_count": 16,
   "metadata": {},
   "outputs": [
    {
     "data": {
      "image/png": "[encoded data removed]",
      "text/plain": [
       "<IPython.core.display.Image object>"
      ]
     },
     "metadata": {},
     "output_type": "display_data"
    }
   ],
   "source": [
    "# Normalize death counts by population and apply log transformation\n",
    "\n",
    "def normalize_log_transform(deaths, populations):\n",
    "    normalized_log_transformed = pd.DataFrame()\n",
    "    for country, population in populations.items():\n",
    "        deaths[country]+=1\n",
    "        normalized_log_transformed[country] = np.log10(deaths[country] / population)\n",
    "    return normalized_log_transformed\n",
    "\n",
    "# Creates and plot the normalized log-transformed death data\n",
    "def plot_normalized_log_deaths(normalized_deaths, title, xaxis_label, yaxis_label, image_path):\n",
    "    fig = go.Figure()\n",
    "    for country, data in normalized_deaths.items():\n",
    "        fig.add_trace(go.Scatter(x=data.index, y=data, mode='lines', name=country))\n",
    "\n",
    "    fig.update_layout(\n",
    "        title=title,\n",
    "        xaxis=dict(title=xaxis_label),\n",
    "        yaxis=dict(title=yaxis_label),\n",
    "        legend_title=\"Country\",\n",
    "        width=800,\n",
    "        height=500\n",
    "    )\n",
    "    \n",
    "    fig.write_image(image_path)\n",
    "    display(Image(image_path))\n",
    "\n",
    "# Population data for the countries\n",
    "populations = {\n",
    "    \"United States\": 331002651,\n",
    "    \"India\": 1380004385,\n",
    "    \"China\": 1439323776,\n",
    "    \"France\": 65273511,\n",
    "    \"Canada\": 37742154,\n",
    "    \"Russia\": 145934462\n",
    "}\n",
    "\n",
    "normalized_log_deaths = normalize_log_transform(country_deaths, populations)\n",
    "\n",
    "# Plotting the normalized log-transformed data\n",
    "plot_normalized_log_deaths(\n",
    "    normalized_log_deaths,\n",
    "    'Log-normalized Weekly Covid Deaths Across Selected Countries',\n",
    "    'Weeks (July - December 2020)',\n",
    "    'Log of Deaths per 10,000',\n",
    "    'normalized_deaths_comparison.png'\n",
    ")"
   ]
  },
  {
   "cell_type": "code",
   "execution_count": 17,
   "metadata": {},
   "outputs": [
    {
     "data": {
      "image/png": "[encoded data removed]",
      "text/plain": [
       "<IPython.core.display.Image object>"
      ]
     },
     "metadata": {},
     "output_type": "display_data"
    }
   ],
   "source": [
    "def plot_weekly_new_cases(dataframe, title, x_axis_title, y_axis_title, file_name):\n",
    "   \n",
    "    # Create a new Plotly figure\n",
    "    fig = go.Figure()\n",
    "\n",
    "    # Add a line trace for each country\n",
    "    for country_cases in dataframe.columns:\n",
    "        fig.add_trace(\n",
    "            go.Scatter(\n",
    "                x=dataframe.index, \n",
    "                y=dataframe[country], \n",
    "                mode='lines', \n",
    "                name=country\n",
    "            )\n",
    "        )\n",
    "\n",
    "    \n",
    "    fig.update_layout(\n",
    "        title=title,\n",
    "        xaxis_title=x_axis_title,\n",
    "        yaxis_title=y_axis_title,\n",
    "        showlegend=True,\n",
    "        width=1000,\n",
    "        height=500\n",
    "    )\n",
    "\n",
    "    # Save the figure as a PNG image\n",
    "    fig.write_image(file_name)\n",
    "    return Image(file_name)\n",
    "\n",
    "\n",
    "# Calculates the difference to get the weekly new cases\n",
    "diff_cases = country_cases.diff().dropna()\n",
    "\n",
    "# Calculates the difference to get the weekly new deaths\n",
    "diff_deaths = country_deaths.diff().dropna()\n",
    "\n",
    "# Function with the necessary parameters for the chart.\n",
    "image = plot_weekly_new_cases(\n",
    "    diff_cases,\n",
    "    'Weekly New Covid Cases Across Six Countries',\n",
    "    'Week (July - December 2020)',\n",
    "    'New Cases (in millions)',\n",
    "    'weekly_new_cases_comparison.png'\n",
    ")\n",
    "\n",
    "# Display the image\n",
    "display(image)"
   ]
  },
  {
   "cell_type": "code",
   "execution_count": 18,
   "metadata": {},
   "outputs": [
    {
     "data": {
      "image/png": "[encoded data removed]",
      "text/plain": [
       "<IPython.core.display.Image object>"
      ]
     },
     "execution_count": 18,
     "metadata": {},
     "output_type": "execute_result"
    }
   ],
   "source": [
    "# Calculate the weekly difference in deaths and drop any missing values\n",
    "\n",
    "weekly_death_differences = country_deaths.diff().dropna()\n",
    "\n",
    "# Defines a function for creating and displaying a plotly figure\n",
    "def plot_weekly_differences(data, title, xaxis_title, yaxis_title, output_filename):\n",
    "    figure = go.Figure()\n",
    "\n",
    "    # Iterate through each column in the DataFrame \n",
    "    for country in data.columns:\n",
    "        figure.add_trace(go.Scatter(x=data.index, y=data[country], mode='lines', name=country))\n",
    "\n",
    "    # Update layout of the figure\n",
    "    figure.update_layout(\n",
    "        title=title,\n",
    "        xaxis=dict(title=xaxis_title),\n",
    "        yaxis=dict(title=yaxis_title),\n",
    "        legend_title=\"Country\",\n",
    "        width=1000,\n",
    "        height=500\n",
    "    )\n",
    "\n",
    "    # Saves the figure to a file and displays it\n",
    "    figure.write_image(output_filename)\n",
    "    return Image(filename=output_filename)\n",
    "\n",
    "# Function to plot the weekly differences in deaths\n",
    "plot_weekly_differences(\n",
    "    weekly_death_differences,\n",
    "    'Weekly New Covid Deaths Across Selected Countries',\n",
    "    'Weeks (July 2020 - December 2020)',\n",
    "    'New Deaths (in thousands)',\n",
    "    'weekly_new_deaths_comparison.png'\n",
    ")"
   ]
  },
  {
   "cell_type": "code",
   "execution_count": 19,
   "metadata": {},
   "outputs": [
    {
     "data": {
      "image/png": "[encoded data removed]",
      "text/plain": [
       "<IPython.core.display.Image object>"
      ]
     },
     "execution_count": 19,
     "metadata": {},
     "output_type": "execute_result"
    }
   ],
   "source": [
    "# Function to create a normalized data frame from differences in cases\n",
    "\n",
    "def create_normalized_df(diff_df, population_divisors):\n",
    "    normalized_df = pd.DataFrame()\n",
    "    for country, divisor in population_divisors.items():\n",
    "        diff_df[country]+=1\n",
    "        #print (divisor)\n",
    "        normalized_df[country] = (diff_df[country] / divisor+1)\n",
    "    return normalized_df\n",
    "\n",
    "# Function to plot the log normalized data\n",
    "def plot_log_normalized_data(normalized_df, title, x_label, y_label, image_file):\n",
    "    fig = go.Figure()\n",
    "    for country in normalized_df.columns:\n",
    "        fig.add_trace(\n",
    "            go.Scatter(\n",
    "                x=normalized_df.index, \n",
    "                y=np.log10(normalized_df[country] + 1),  # Added 1 to avoid log10(0)\n",
    "                mode='lines', \n",
    "                name=country\n",
    "            )\n",
    "        )\n",
    "    fig.update_layout(\n",
    "        title=title,\n",
    "        xaxis_title=x_label,\n",
    "        yaxis_title=y_label,\n",
    "        showlegend=True,\n",
    "        width=800,\n",
    "        height=500\n",
    "    )\n",
    "    fig.write_image(image_file)\n",
    "    return Image(image_file)\n",
    "\n",
    "# Population divisors adjusted for per 1000 population\n",
    "population_divisors = {\n",
    "    \"United States\": 331002,\n",
    "    \"India\": 1380004,\n",
    "    \"China\": 1439323,\n",
    "    \"France\": 65273,\n",
    "    \"Canada\": 37742,\n",
    "    \"Russia\": 145934\n",
    "}\n",
    "\n",
    "# Creating the normalized data frame\n",
    "diff_case_normalized = create_normalized_df(diff_cases, population_divisors)\n",
    "\n",
    "# Plotting the log normalized data\n",
    "plot_log_normalized_data(\n",
    "    diff_case_normalized,\n",
    "    'Log-Normalized Weekly New COVID-19 Cases Across Selected Countries',\n",
    "    'Weeks (July 2020 - Dec 2020)',\n",
    "    'Log of New Cases per 1000',\n",
    "    'five_countries_comparison_diff_cases_norm.png'\n",
    ")\n"
   ]
  },
  {
   "cell_type": "code",
   "execution_count": 20,
   "metadata": {},
   "outputs": [
    {
     "data": {
      "image/png": "[encoded data removed]",
      "text/plain": [
       "<IPython.core.display.Image object>"
      ]
     },
     "execution_count": 20,
     "metadata": {},
     "output_type": "execute_result"
    }
   ],
   "source": [
    "# Function to normalize and log-transform the difference in deaths\n",
    "\n",
    "def normalize_log_transform_deaths(diff_deaths_df, normalization_factors):\n",
    "    normalized_log_df = pd.DataFrame()\n",
    "    for country, factor in normalization_factors.items():\n",
    "        diff_deaths_df[country]+=1\n",
    "        normalized_log_df[country] = np.log10((diff_deaths_df[country] / factor+1)+1)\n",
    "    return normalized_log_df\n",
    "\n",
    "# Function to plot the normalized and log-transformed data\n",
    "def plot_normalized_log_deaths(data, title, x_label, y_label, file_path):\n",
    "    fig = go.Figure()\n",
    "    for country in data: # iterate directly over the DataFrame's columns\n",
    "        fig.add_trace(go.Scatter(x=data.index, y=data[country], mode='lines', name=country))\n",
    "\n",
    "    fig.update_layout(title=title, xaxis_title=x_label, yaxis_title=y_label, showlegend=True, width=800, height=500)\n",
    "    \n",
    "    # Save and display the figure\n",
    "    fig.write_image(file_path)\n",
    "    return Image(file_path)\n",
    "\n",
    "# Normalization factors for each country, adjusted for per 100,000 population\n",
    "normalization_factors = {\n",
    "    \"United States\": 3310,\n",
    "    \"India\": 13800,\n",
    "    \"China\": 14393,\n",
    "    \"France\": 652,\n",
    "    \"Canada\": 377,  \n",
    "    \"Russia\": 1459\n",
    "}\n",
    "\n",
    "# Apply normalization and log-transformation\n",
    "normalized_log_diff_deaths = normalize_log_transform_deaths(diff_deaths, normalization_factors)\n",
    "\n",
    "# normalized_log_diff_deaths is a DataFrame before passing to the plotting function\n",
    "if not isinstance(normalized_log_diff_deaths, pd.DataFrame):\n",
    "    raise ValueError('The data provided to plot_normalized_log_deaths must be a pandas DataFrame.')\n",
    "\n",
    "# Plotting the normalized log-transformed differences in deaths\n",
    "plot_normalized_log_deaths(\n",
    "    normalized_log_diff_deaths,\n",
    "    'Log-normalized Weekly New COVID-19 Deaths Across Selected Countries',\n",
    "    'Weeks (July 2020 - December 2020)',\n",
    "    'Log of New Deaths per 100,000 People',\n",
    "    'normalized_new_deaths_comparison.png'\n",
    ")\n"
   ]
  },
  {
   "cell_type": "markdown",
   "metadata": {},
   "source": [
    "## Identifying the peak weeks of the Cases and Deaths in US and other Countries"
   ]
  },
  {
   "cell_type": "code",
   "execution_count": 21,
   "metadata": {
    "scrolled": true
   },
   "outputs": [
    {
     "name": "stdout",
     "output_type": "stream",
     "text": [
      "=== United States ===\n",
      "Peak Cases: 1515811.0 cases occurred within Week 23.\n",
      "Peak Deaths: 19815.0 deaths occurred within Week 24.\n",
      "\n",
      "=== India ===\n",
      "Peak Cases: 79840.0 cases occurred within Week 3.\n",
      "Peak Deaths: 1106.0 deaths occurred within Week 3.\n",
      "\n",
      "=== China ===\n",
      "Peak Cases: 562.0 cases occurred within Week 4.\n",
      "Peak Deaths: 12.0 deaths occurred within Week 24.\n",
      "\n",
      "=== France ===\n",
      "Peak Cases: 93495.0 cases occurred within Week 16.\n",
      "Peak Deaths: 1641.0 deaths occurred within Week 18.\n",
      "\n",
      "=== Canada ===\n",
      "Peak Cases: 7700.0 cases occurred within Week 19.\n",
      "Peak Deaths: 153.0 deaths occurred within Week 23.\n",
      "\n",
      "=== Russia ===\n",
      "Peak Cases: 20155.0 cases occurred within Week 14.\n",
      "Peak Deaths: 356.0 deaths occurred within Week 21.\n",
      "\n"
     ]
    }
   ],
   "source": [
    "def print_peak_values(country_name, case_data, death_data):\n",
    "   \n",
    "    # Find peak case values and corresponding weeks\n",
    "    peak_cases_value = case_data.max()\n",
    "    peak_cases_week = case_data.idxmax()\n",
    "    \n",
    "    # Find peak death values and corresponding weeks\n",
    "    peak_deaths_value = death_data.max()\n",
    "    peak_deaths_week = death_data.idxmax()\n",
    "    \n",
    "    # Print the results\n",
    "    print(f\"=== {country_name} ===\")\n",
    "    print(f\"Peak Cases: {peak_cases_value} cases occurred within Week {peak_cases_week}.\")\n",
    "    print(f\"Peak Deaths: {peak_deaths_value} deaths occurred within Week {peak_deaths_week}.\\n\")\n",
    "\n",
    "# Countries for analysis\n",
    "country_list = ['United States', 'India', 'China', 'France', 'Canada', 'Russia']\n",
    "\n",
    "# Loop through the list of countries and apply the function\n",
    "for country in country_list:\n",
    "    print_peak_values(\n",
    "        country,\n",
    "        diff_cases[country], \n",
    "        diff_deaths[country]  \n",
    "    )\n"
   ]
  },
  {
   "cell_type": "markdown",
   "metadata": {},
   "source": [
    "The analysis of the COVID-19 trends reveals notable peaks in case and death counts for the evaluated countries. These peaks are critical indicators of the pandemic's intensity during specific periods. Let's delve into the potential factors that contributed to these surges:\n",
    "\n",
    "For the United States, India, and China, the peak in cases and deaths prominently occurred between Week 24 and Week 26, aligning with mid-to-late December 2020. This period coincides with the holiday season, suggesting that increased social gatherings and travel may have contributed significantly to the spike in numbers. The festivities during this time, coupled with potential relaxed adherence to public health measures, could explain the sharp rise in both cases and deaths.\n",
    "\n",
    "The alignment of peaks across these countries could also be influenced by the onset of colder weather, prompting more indoor activities where the virus spreads more readily. Additionally, these spikes may reflect the lag time between infection and the manifestation of severe symptoms leading to death, as well as the time required to report these figures.\n",
    "\n"
   ]
  }
 ],
 "metadata": {
  "kernelspec": {
   "display_name": "Python 3 (ipykernel)",
   "language": "python",
   "name": "python3"
  },
  "language_info": {
   "codemirror_mode": {
    "name": "ipython",
    "version": 3
   },
   "file_extension": ".py",
   "mimetype": "text/x-python",
   "name": "python",
   "nbconvert_exporter": "python",
   "pygments_lexer": "ipython3",
   "version": "3.11.5"
  }
 },
 "nbformat": 4,
 "nbformat_minor": 4
}
